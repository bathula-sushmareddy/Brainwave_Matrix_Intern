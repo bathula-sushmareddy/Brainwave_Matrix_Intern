{
  "cells": [
    {
      "cell_type": "markdown",
      "metadata": {
        "id": "view-in-github",
        "colab_type": "text"
      },
      "source": [
        "<a href=\"https://colab.research.google.com/github/bathula-sushmareddy/Brainwave_Matrix_Intern/blob/main/Fake_News_Detection_Model.ipynb\" target=\"_parent\"><img src=\"https://colab.research.google.com/assets/colab-badge.svg\" alt=\"Open In Colab\"/></a>"
      ]
    },
    {
      "cell_type": "markdown",
      "metadata": {
        "id": "wu6xvbD7_SYv"
      },
      "source": [
        "About the dataset\n",
        "\n",
        "1.Title: title of news article\n",
        "\n",
        "2.Text: body text of news article\n",
        "\n",
        "3.Subject: subject of news article\n",
        "\n",
        "4.Date: publish date of news article"
      ]
    },
    {
      "cell_type": "code",
      "execution_count": null,
      "metadata": {
        "id": "AjfC1Fm0ASsW"
      },
      "outputs": [],
      "source": [
        "import numpy as np\n",
        "import pandas as pd\n",
        "import matplotlib.pyplot as plt\n",
        "import seaborn as sns\n",
        "from sklearn.model_selection import train_test_split\n",
        "from sklearn.linear_model import LogisticRegression\n",
        "from sklearn.metrics import accuracy_score\n",
        "from sklearn.metrics import classification_report\n",
        "import re\n",
        "import string"
      ]
    },
    {
      "cell_type": "code",
      "execution_count": null,
      "metadata": {
        "id": "-o48BiOb6tOr"
      },
      "outputs": [],
      "source": [
        "df_fake=pd.read_csv('/content/Fake.csv',engine='python',on_bad_lines='skip')"
      ]
    },
    {
      "cell_type": "code",
      "execution_count": null,
      "metadata": {
        "id": "Sbir989MIrS1"
      },
      "outputs": [],
      "source": [
        "df_true=pd.read_csv('/content/True.csv',engine='python',on_bad_lines='skip')"
      ]
    },
    {
      "cell_type": "code",
      "execution_count": null,
      "metadata": {
        "colab": {
          "base_uri": "https://localhost:8080/",
          "height": 206
        },
        "id": "YorEeq5iB3Vl",
        "outputId": "e2d0bbf3-b3b4-4412-ec13-29fad3c03260"
      },
      "outputs": [
        {
          "output_type": "execute_result",
          "data": {
            "text/plain": [
              "                                               title  \\\n",
              "0   Donald Trump Sends Out Embarrassing New Year’...   \n",
              "1   Drunk Bragging Trump Staffer Started Russian ...   \n",
              "2   Sheriff David Clarke Becomes An Internet Joke...   \n",
              "3   Trump Is So Obsessed He Even Has Obama’s Name...   \n",
              "4   Pope Francis Just Called Out Donald Trump Dur...   \n",
              "\n",
              "                                                text subject  \\\n",
              "0  Donald Trump just couldn t wish all Americans ...    News   \n",
              "1  House Intelligence Committee Chairman Devin Nu...    News   \n",
              "2  On Friday, it was revealed that former Milwauk...    News   \n",
              "3  On Christmas day, Donald Trump announced that ...    News   \n",
              "4  Pope Francis used his annual Christmas Day mes...    News   \n",
              "\n",
              "                date  \n",
              "0  December 31, 2017  \n",
              "1  December 31, 2017  \n",
              "2  December 30, 2017  \n",
              "3  December 29, 2017  \n",
              "4  December 25, 2017  "
            ],
            "text/html": [
              "\n",
              "  <div id=\"df-02f6cced-806e-43d4-9c0e-e20e90711a7e\" class=\"colab-df-container\">\n",
              "    <div>\n",
              "<style scoped>\n",
              "    .dataframe tbody tr th:only-of-type {\n",
              "        vertical-align: middle;\n",
              "    }\n",
              "\n",
              "    .dataframe tbody tr th {\n",
              "        vertical-align: top;\n",
              "    }\n",
              "\n",
              "    .dataframe thead th {\n",
              "        text-align: right;\n",
              "    }\n",
              "</style>\n",
              "<table border=\"1\" class=\"dataframe\">\n",
              "  <thead>\n",
              "    <tr style=\"text-align: right;\">\n",
              "      <th></th>\n",
              "      <th>title</th>\n",
              "      <th>text</th>\n",
              "      <th>subject</th>\n",
              "      <th>date</th>\n",
              "    </tr>\n",
              "  </thead>\n",
              "  <tbody>\n",
              "    <tr>\n",
              "      <th>0</th>\n",
              "      <td>Donald Trump Sends Out Embarrassing New Year’...</td>\n",
              "      <td>Donald Trump just couldn t wish all Americans ...</td>\n",
              "      <td>News</td>\n",
              "      <td>December 31, 2017</td>\n",
              "    </tr>\n",
              "    <tr>\n",
              "      <th>1</th>\n",
              "      <td>Drunk Bragging Trump Staffer Started Russian ...</td>\n",
              "      <td>House Intelligence Committee Chairman Devin Nu...</td>\n",
              "      <td>News</td>\n",
              "      <td>December 31, 2017</td>\n",
              "    </tr>\n",
              "    <tr>\n",
              "      <th>2</th>\n",
              "      <td>Sheriff David Clarke Becomes An Internet Joke...</td>\n",
              "      <td>On Friday, it was revealed that former Milwauk...</td>\n",
              "      <td>News</td>\n",
              "      <td>December 30, 2017</td>\n",
              "    </tr>\n",
              "    <tr>\n",
              "      <th>3</th>\n",
              "      <td>Trump Is So Obsessed He Even Has Obama’s Name...</td>\n",
              "      <td>On Christmas day, Donald Trump announced that ...</td>\n",
              "      <td>News</td>\n",
              "      <td>December 29, 2017</td>\n",
              "    </tr>\n",
              "    <tr>\n",
              "      <th>4</th>\n",
              "      <td>Pope Francis Just Called Out Donald Trump Dur...</td>\n",
              "      <td>Pope Francis used his annual Christmas Day mes...</td>\n",
              "      <td>News</td>\n",
              "      <td>December 25, 2017</td>\n",
              "    </tr>\n",
              "  </tbody>\n",
              "</table>\n",
              "</div>\n",
              "    <div class=\"colab-df-buttons\">\n",
              "\n",
              "  <div class=\"colab-df-container\">\n",
              "    <button class=\"colab-df-convert\" onclick=\"convertToInteractive('df-02f6cced-806e-43d4-9c0e-e20e90711a7e')\"\n",
              "            title=\"Convert this dataframe to an interactive table.\"\n",
              "            style=\"display:none;\">\n",
              "\n",
              "  <svg xmlns=\"http://www.w3.org/2000/svg\" height=\"24px\" viewBox=\"0 -960 960 960\">\n",
              "    <path d=\"M120-120v-720h720v720H120Zm60-500h600v-160H180v160Zm220 220h160v-160H400v160Zm0 220h160v-160H400v160ZM180-400h160v-160H180v160Zm440 0h160v-160H620v160ZM180-180h160v-160H180v160Zm440 0h160v-160H620v160Z\"/>\n",
              "  </svg>\n",
              "    </button>\n",
              "\n",
              "  <style>\n",
              "    .colab-df-container {\n",
              "      display:flex;\n",
              "      gap: 12px;\n",
              "    }\n",
              "\n",
              "    .colab-df-convert {\n",
              "      background-color: #E8F0FE;\n",
              "      border: none;\n",
              "      border-radius: 50%;\n",
              "      cursor: pointer;\n",
              "      display: none;\n",
              "      fill: #1967D2;\n",
              "      height: 32px;\n",
              "      padding: 0 0 0 0;\n",
              "      width: 32px;\n",
              "    }\n",
              "\n",
              "    .colab-df-convert:hover {\n",
              "      background-color: #E2EBFA;\n",
              "      box-shadow: 0px 1px 2px rgba(60, 64, 67, 0.3), 0px 1px 3px 1px rgba(60, 64, 67, 0.15);\n",
              "      fill: #174EA6;\n",
              "    }\n",
              "\n",
              "    .colab-df-buttons div {\n",
              "      margin-bottom: 4px;\n",
              "    }\n",
              "\n",
              "    [theme=dark] .colab-df-convert {\n",
              "      background-color: #3B4455;\n",
              "      fill: #D2E3FC;\n",
              "    }\n",
              "\n",
              "    [theme=dark] .colab-df-convert:hover {\n",
              "      background-color: #434B5C;\n",
              "      box-shadow: 0px 1px 3px 1px rgba(0, 0, 0, 0.15);\n",
              "      filter: drop-shadow(0px 1px 2px rgba(0, 0, 0, 0.3));\n",
              "      fill: #FFFFFF;\n",
              "    }\n",
              "  </style>\n",
              "\n",
              "    <script>\n",
              "      const buttonEl =\n",
              "        document.querySelector('#df-02f6cced-806e-43d4-9c0e-e20e90711a7e button.colab-df-convert');\n",
              "      buttonEl.style.display =\n",
              "        google.colab.kernel.accessAllowed ? 'block' : 'none';\n",
              "\n",
              "      async function convertToInteractive(key) {\n",
              "        const element = document.querySelector('#df-02f6cced-806e-43d4-9c0e-e20e90711a7e');\n",
              "        const dataTable =\n",
              "          await google.colab.kernel.invokeFunction('convertToInteractive',\n",
              "                                                    [key], {});\n",
              "        if (!dataTable) return;\n",
              "\n",
              "        const docLinkHtml = 'Like what you see? Visit the ' +\n",
              "          '<a target=\"_blank\" href=https://colab.research.google.com/notebooks/data_table.ipynb>data table notebook</a>'\n",
              "          + ' to learn more about interactive tables.';\n",
              "        element.innerHTML = '';\n",
              "        dataTable['output_type'] = 'display_data';\n",
              "        await google.colab.output.renderOutput(dataTable, element);\n",
              "        const docLink = document.createElement('div');\n",
              "        docLink.innerHTML = docLinkHtml;\n",
              "        element.appendChild(docLink);\n",
              "      }\n",
              "    </script>\n",
              "  </div>\n",
              "\n",
              "\n",
              "    <div id=\"df-a2787781-07f0-40e4-a055-401de9626ac1\">\n",
              "      <button class=\"colab-df-quickchart\" onclick=\"quickchart('df-a2787781-07f0-40e4-a055-401de9626ac1')\"\n",
              "                title=\"Suggest charts\"\n",
              "                style=\"display:none;\">\n",
              "\n",
              "<svg xmlns=\"http://www.w3.org/2000/svg\" height=\"24px\"viewBox=\"0 0 24 24\"\n",
              "     width=\"24px\">\n",
              "    <g>\n",
              "        <path d=\"M19 3H5c-1.1 0-2 .9-2 2v14c0 1.1.9 2 2 2h14c1.1 0 2-.9 2-2V5c0-1.1-.9-2-2-2zM9 17H7v-7h2v7zm4 0h-2V7h2v10zm4 0h-2v-4h2v4z\"/>\n",
              "    </g>\n",
              "</svg>\n",
              "      </button>\n",
              "\n",
              "<style>\n",
              "  .colab-df-quickchart {\n",
              "      --bg-color: #E8F0FE;\n",
              "      --fill-color: #1967D2;\n",
              "      --hover-bg-color: #E2EBFA;\n",
              "      --hover-fill-color: #174EA6;\n",
              "      --disabled-fill-color: #AAA;\n",
              "      --disabled-bg-color: #DDD;\n",
              "  }\n",
              "\n",
              "  [theme=dark] .colab-df-quickchart {\n",
              "      --bg-color: #3B4455;\n",
              "      --fill-color: #D2E3FC;\n",
              "      --hover-bg-color: #434B5C;\n",
              "      --hover-fill-color: #FFFFFF;\n",
              "      --disabled-bg-color: #3B4455;\n",
              "      --disabled-fill-color: #666;\n",
              "  }\n",
              "\n",
              "  .colab-df-quickchart {\n",
              "    background-color: var(--bg-color);\n",
              "    border: none;\n",
              "    border-radius: 50%;\n",
              "    cursor: pointer;\n",
              "    display: none;\n",
              "    fill: var(--fill-color);\n",
              "    height: 32px;\n",
              "    padding: 0;\n",
              "    width: 32px;\n",
              "  }\n",
              "\n",
              "  .colab-df-quickchart:hover {\n",
              "    background-color: var(--hover-bg-color);\n",
              "    box-shadow: 0 1px 2px rgba(60, 64, 67, 0.3), 0 1px 3px 1px rgba(60, 64, 67, 0.15);\n",
              "    fill: var(--button-hover-fill-color);\n",
              "  }\n",
              "\n",
              "  .colab-df-quickchart-complete:disabled,\n",
              "  .colab-df-quickchart-complete:disabled:hover {\n",
              "    background-color: var(--disabled-bg-color);\n",
              "    fill: var(--disabled-fill-color);\n",
              "    box-shadow: none;\n",
              "  }\n",
              "\n",
              "  .colab-df-spinner {\n",
              "    border: 2px solid var(--fill-color);\n",
              "    border-color: transparent;\n",
              "    border-bottom-color: var(--fill-color);\n",
              "    animation:\n",
              "      spin 1s steps(1) infinite;\n",
              "  }\n",
              "\n",
              "  @keyframes spin {\n",
              "    0% {\n",
              "      border-color: transparent;\n",
              "      border-bottom-color: var(--fill-color);\n",
              "      border-left-color: var(--fill-color);\n",
              "    }\n",
              "    20% {\n",
              "      border-color: transparent;\n",
              "      border-left-color: var(--fill-color);\n",
              "      border-top-color: var(--fill-color);\n",
              "    }\n",
              "    30% {\n",
              "      border-color: transparent;\n",
              "      border-left-color: var(--fill-color);\n",
              "      border-top-color: var(--fill-color);\n",
              "      border-right-color: var(--fill-color);\n",
              "    }\n",
              "    40% {\n",
              "      border-color: transparent;\n",
              "      border-right-color: var(--fill-color);\n",
              "      border-top-color: var(--fill-color);\n",
              "    }\n",
              "    60% {\n",
              "      border-color: transparent;\n",
              "      border-right-color: var(--fill-color);\n",
              "    }\n",
              "    80% {\n",
              "      border-color: transparent;\n",
              "      border-right-color: var(--fill-color);\n",
              "      border-bottom-color: var(--fill-color);\n",
              "    }\n",
              "    90% {\n",
              "      border-color: transparent;\n",
              "      border-bottom-color: var(--fill-color);\n",
              "    }\n",
              "  }\n",
              "</style>\n",
              "\n",
              "      <script>\n",
              "        async function quickchart(key) {\n",
              "          const quickchartButtonEl =\n",
              "            document.querySelector('#' + key + ' button');\n",
              "          quickchartButtonEl.disabled = true;  // To prevent multiple clicks.\n",
              "          quickchartButtonEl.classList.add('colab-df-spinner');\n",
              "          try {\n",
              "            const charts = await google.colab.kernel.invokeFunction(\n",
              "                'suggestCharts', [key], {});\n",
              "          } catch (error) {\n",
              "            console.error('Error during call to suggestCharts:', error);\n",
              "          }\n",
              "          quickchartButtonEl.classList.remove('colab-df-spinner');\n",
              "          quickchartButtonEl.classList.add('colab-df-quickchart-complete');\n",
              "        }\n",
              "        (() => {\n",
              "          let quickchartButtonEl =\n",
              "            document.querySelector('#df-a2787781-07f0-40e4-a055-401de9626ac1 button');\n",
              "          quickchartButtonEl.style.display =\n",
              "            google.colab.kernel.accessAllowed ? 'block' : 'none';\n",
              "        })();\n",
              "      </script>\n",
              "    </div>\n",
              "\n",
              "    </div>\n",
              "  </div>\n"
            ],
            "application/vnd.google.colaboratory.intrinsic+json": {
              "type": "dataframe",
              "variable_name": "df_fake",
              "summary": "{\n  \"name\": \"df_fake\",\n  \"rows\": 6953,\n  \"fields\": [\n    {\n      \"column\": \"title\",\n      \"properties\": {\n        \"dtype\": \"string\",\n        \"num_unique_values\": 6952,\n        \"samples\": [\n          \" Rapist Gets Slap On The Wrist Sentence Because Prison Would Be Too \\u2018Severe\\u2019\",\n          \" REPORT: Trump Illegally Used Charity Money To Jumpstart Presidential Campaign\",\n          \" Watch Dan Savage Destroy Ann Coulter For Her \\u2018Bullsh*t\\u2019 Obsession With Trump (VIDEO)\"\n        ],\n        \"semantic_type\": \"\",\n        \"description\": \"\"\n      }\n    },\n    {\n      \"column\": \"text\",\n      \"properties\": {\n        \"dtype\": \"string\",\n        \"num_unique_values\": 6953,\n        \"samples\": [\n          \"If there s one rule in politics, it s that you never, ever, ever, ever, ever, ever, ever, ever, ever, EVER joke about the Holocaust   but Donald Trump Jr. apparently didn t get that memo from his white supremacist friends.Sure, Trump Jr. follows numeroous prominent white supremacists on Twitter, gives interviews to Nazi talk shows, and (like his father) retweets the meth-fueled  white power  crowd like it s going out of style (without realizing that that sort of thing went out of style before Twitter was a thing), but no one really expected him to just joke about the Holocaust   after all, even most Nazis display more tact. The media has been her number one surrogate in this. Without the media, this wouldn t even be a contest, but the media has built her up,  Trump Jr said in an interview with Chris Stigall on Talk Radio 1210 WPHT in which he explained that if Republicans lied like Hillary Clinton   whose fact-checked statements reveal she actually tells the truth most of the time, unlike Donald Trump   there would be hell to pay:They ve let her slide on every indiscrepancy (sic), on every lie, on every DNC game trying to get Bernie Sanders out of this thing. If Republicans were doing that, they d be warming up the gas chamber right now. After the interview, Trump told NBC News that he was referencing corporal punishment, not the Holocaust, though he did not state what form of  corporal punishment  involves  gas chambers  aside from, you know, gas chambers. Like all those times Trump Jr. and his father have retweeted white supremacist imagery and propaganda, he says that this was not the least bit anti-Semitic.Hear it for yourself below: Featured image via Getty Images/Jeff Swensen\",\n          \"A new report from RealClearPolitics is detailing what might be another illegal endeavor of Donald Trump at the behest of his  charitable foundation  (which has already been caught illegally using funds to pay off lawsuits).From 2011 to 2014, leading up to his presidential announcement (and speculation in 2012), the Trump Foundation donated nearly $300,000 to various conservative groups and organizations.IRS laws clearly state that charity executives may not use a foundation  funds to finance personal endeavors that benefit said executives.In 2011, Trump met with South Carolina conservative activist Oran Smith with the intent for, as Smith puts it,  laying the foundation for a   campaign.  After the meeting between the two, Trump, using foundation money, donated $10,000 to Smith s organization, the Palmetto Family Council.According to RealClearPolitics:In many cases, this flow of money corresponded to prime speaking slots or endorsements that aided Trump as he sought to recast himself as a plausible Republican candidate for president. Although sources familiar with the thinking behind the donations cautioned that Trump did not explicitly ask for favors in return for the money, they said the contributions were part of a deliberate effort by Trump to ingratiate himself with influential conservatives and brighten his political prospects.Talk about real pay-for-play.Using Foundation money to monetarily influence, even slightly, those who could (and would) catapult his political career (a personal endeavor) is still illegal under IRS laws   no matter how many technicalities Trump and his lawyers want to argue.In almost all instances, these conservative organizations, with considerable political influence, invited the billionaire mogul and provided endorsements after he donated thousands of dollars to their cause.Another high profile donation was made to The Family Leader organization, a socially conservative think tank that featured Trump as a keynote speaker at one of their most prestigious events in 2013. Trump was featured as the keynote speaker after giving $10,000 like he did with the Palmetto Family Council. RealClearPolitics points out that Trump may have broken IRS rules by giving directly to the organization and not its affiliated nonprofit branch, thus pitting Trump in a  double whammy  on unethical, illegal political meanderings.After Trump donated $100,000 to Citizens United, a Koch-backed political entity:In April 2014, when Citizens United hosted a  cattle call  of would-be Republican candidates for president in New Hampshire, Trump was there. In January 2015, at Citizens United s Freedom Summit in Iowa, Trump was again on the program.This won t bode well, especially for a guy who s  under audit  from the IRS. We now know why, apparently.While Republicans try to find something, anything, to pit Clinton against her foundation, the GOP is ignoring the obvious abuses of Trump and his. This double standard from the right should not surprise anyone   their candidate is failing and they need to divert any negative attention away from him. This is the party of  Christian values  at work.Featured image via Spencer Platt/Getty Images\",\n          \"Republicans might have Congress and the White House, but they don t have the people or public opinion on their side, and it shows. When House Speaker Paul Ryan (R-WI) tried to attack the Affordable Care Act on Twitter today, he learned that the hard way.Here s the tweet in question: Retweet to agree   #Obamacare is failing. We need to reverse the damage that has been done. pic.twitter.com/s6B0UDSWKp  Paul Ryan (@SpeakerRyan) February 5, 2017 Things are only getting worse under Obamacare,  he says. Huh. That s weird   before Obamacare, there was less choice, no central marketplace, insurance companies could reject you for preexisting conditions or set a lifetime cap on coverage, tens of millions weren t insured at all, and insurance companies could take as much profit as they wanted instead of spending on healthcare.However, little things like facts don t get in the way of the bloviating of bullshit artists like Paul Ryan. Luckily, twitter users instantly tore his lies apart: @SpeakerRyan When is your  retweet to agree   democracy is failing  tweet  Dave Levitan (@davelevitan) February 5, 2017@SpeakerRyan Trump is failing. Get rid of him first.  The Morch Files ?? (@WIrebelalliance) February 5, 2017@SpeakerRyan You mean damage by providing health care to those who otherwise couldn t afford it or get coverage?  Kim D (@KimDHello) February 5, 2017@SpeakerRyan you should start by reversing the damage you caused.  Not A. Snake (@SnakeInPants) February 5, 2017@SpeakerRyan re-fund the risk corridor subsidies that you defunded despite industry leaders telling you it would cause wild rate hikes.  Not A. Snake (@SnakeInPants) February 5, 2017@SpeakerRyan Like to agree   Paul Ryan should give a plan for replacement before repealing millions of people s insurance.  PARKER ?? ? (@Parker9_) February 5, 2017@SpeakerRyan Why didn t you work to improve it years ago when the president asked for help? The problems were caused by your obstruction.  Chris O Brien (@ChrisOB617) February 5, 2017@SpeakerRyan I need Obamacare. I m a small business person and rely on it for my health  Amy Teegan (@amyteegan) February 5, 2017@SpeakerRyan Trump is a bigger threat. Please deal with him first. Kthx.  Brian Podolsky (@brianpodolsky) February 5, 2017@SpeakerRyan Retweet to agree   #PaulRyan is failing. We need to reverse the damage that Trump/Bannon administration has done  killermuses (@killermuses) February 5, 2017Retweet to agree: Paul Ryan is a douche ?@SpeakerRyan pic.twitter.com/1Fx1TDYTQ8  No Filter Alexa ? (@realAlexaParker) February 5, 2017@SpeakerRyan why are you getting gold plus healthcare with no pre-existing condition options. We all deserve your gold standard healthcare  Oh Juliet (@justdreamin91) February 5, 2017@SpeakerRyan How about you and your lying partners come up with an actual plan before pretending you have a #BetterWay?  A. Lethe (@Axel_Lethe) February 5, 2017@SpeakerRyan #Obamacare is NOT failing. Stop your stinking lies. You are an enemy of the American people if you repeal ACA.  Barbara Drake (@barbaradrake) February 5, 2017@SpeakerRyan 1. Repeating a lie won t make it true. 2. Shouldn t you be concentrating on making sure Trump doesn t start WW3?  Maloofs (@MMVarney) February 5, 2017This one sums it up perhaps best of all:@SpeakerRyan pic.twitter.com/jVi92Thkt4  Oh Juliet (@justdreamin91) February 5, 2017@SpeakerRyan without replacement plan; pure recklessness. makes you look small minded, spiteful and uncaring #ACA  CMKO (@hellocindy) February 5, 2017@SpeakerRyan still all talk and no plan   and most of us know it is NOT failing so stop with the lying rhetoric  Kathy Pruitt (@KathyPruitt54) February 5, 2017Is the ACA perfect? No. After all, insurance companies are still taking 20 percent of the money that could be spent entirely on healthcare. However, Republicans want to move in the opposite direction. They re not out to help people at all. That s why, instead of developing a reasonable alternative, they have spent years and millions of taxpayer dollars trying to repeal Obamacare with no replacement. And, now that they have power, they fully intend to do so and leave the American people stranded without a fallback.Featured image via Chip Somodevilla/Getty Images\"\n        ],\n        \"semantic_type\": \"\",\n        \"description\": \"\"\n      }\n    },\n    {\n      \"column\": \"subject\",\n      \"properties\": {\n        \"dtype\": \"category\",\n        \"num_unique_values\": 1,\n        \"samples\": [\n          \"News\"\n        ],\n        \"semantic_type\": \"\",\n        \"description\": \"\"\n      }\n    },\n    {\n      \"column\": \"date\",\n      \"properties\": {\n        \"dtype\": \"object\",\n        \"num_unique_values\": 621,\n        \"samples\": [\n          \"November 4, 2017\"\n        ],\n        \"semantic_type\": \"\",\n        \"description\": \"\"\n      }\n    }\n  ]\n}"
            }
          },
          "metadata": {},
          "execution_count": 5
        }
      ],
      "source": [
        "df_fake.head()"
      ]
    },
    {
      "cell_type": "code",
      "execution_count": null,
      "metadata": {
        "colab": {
          "base_uri": "https://localhost:8080/"
        },
        "id": "UoGTHCsBB3Yq",
        "outputId": "4d75a961-c826-4cfa-c2f8-c980ff63ede6"
      },
      "outputs": [
        {
          "output_type": "execute_result",
          "data": {
            "text/plain": [
              "((6953, 4), (2065, 4))"
            ]
          },
          "metadata": {},
          "execution_count": 6
        }
      ],
      "source": [
        "df_fake.shape,df_true.shape"
      ]
    },
    {
      "cell_type": "code",
      "execution_count": null,
      "metadata": {
        "colab": {
          "base_uri": "https://localhost:8080/"
        },
        "id": "7jXMyiGLB3mx",
        "outputId": "99634c87-539e-4bc7-a1a3-9b080045c556"
      },
      "outputs": [
        {
          "output_type": "execute_result",
          "data": {
            "text/plain": [
              "(title      0\n",
              " text       0\n",
              " subject    0\n",
              " date       0\n",
              " dtype: int64,\n",
              " title      0\n",
              " text       0\n",
              " subject    0\n",
              " date       0\n",
              " dtype: int64)"
            ]
          },
          "metadata": {},
          "execution_count": 7
        }
      ],
      "source": [
        "df_true.isnull().sum(),df_fake.isnull().sum()"
      ]
    },
    {
      "cell_type": "code",
      "execution_count": null,
      "metadata": {
        "id": "JN0R-yyXCVsm"
      },
      "outputs": [],
      "source": [
        "df_fake['class']=0\n",
        "df_true['class']=1"
      ]
    },
    {
      "cell_type": "code",
      "execution_count": null,
      "metadata": {
        "id": "Q_yb7kSNCVv7"
      },
      "outputs": [],
      "source": [
        "data=pd.concat([df_fake,df_true],axis=0)"
      ]
    },
    {
      "cell_type": "code",
      "execution_count": null,
      "metadata": {
        "colab": {
          "base_uri": "https://localhost:8080/"
        },
        "id": "hZYbzo6TCWDL",
        "outputId": "d79dc222-a290-426e-eac2-34858ded5ffc"
      },
      "outputs": [
        {
          "output_type": "execute_result",
          "data": {
            "text/plain": [
              "(9018, 5)"
            ]
          },
          "metadata": {},
          "execution_count": 10
        }
      ],
      "source": [
        "data.shape"
      ]
    },
    {
      "cell_type": "code",
      "execution_count": null,
      "metadata": {
        "id": "KkSDCEq_K4ML"
      },
      "outputs": [],
      "source": [
        "data = data.sample(frac=1, random_state=42).reset_index(drop=True)"
      ]
    },
    {
      "cell_type": "code",
      "execution_count": null,
      "metadata": {
        "colab": {
          "base_uri": "https://localhost:8080/",
          "height": 206
        },
        "id": "NWs8mxSrK4Oc",
        "outputId": "631076b1-53b4-4be4-d4e0-d8adf6f575cf"
      },
      "outputs": [
        {
          "output_type": "execute_result",
          "data": {
            "text/plain": [
              "                                               title  \\\n",
              "0   Alabama Republican Governor BUSTED Lying To C...   \n",
              "1   Bernie Sanders Lets Chuck Todd Know If He’s W...   \n",
              "2   Paul Ryan Takes A Monumentally HUMILIATING Ph...   \n",
              "3   Trump Supporter In Phoenix Just Threatened Jo...   \n",
              "4   This North Carolina High School Just Made It ...   \n",
              "\n",
              "                                                text subject             date  \\\n",
              "0  They say the cover-up is always worse than the...    News  August 12, 2016   \n",
              "1  With the Democratic primary process drawing to...    News     May 29, 2016   \n",
              "2  Politicians are all about photo-ops. This is e...    News      May 7, 2017   \n",
              "3  Donald Trump, in his ongoing effort to spur on...    News  August 22, 2017   \n",
              "4  It s hard to believe that so many people are s...    News     May 11, 2016   \n",
              "\n",
              "   class  \n",
              "0      0  \n",
              "1      0  \n",
              "2      0  \n",
              "3      0  \n",
              "4      0  "
            ],
            "text/html": [
              "\n",
              "  <div id=\"df-5981bead-3243-4274-89b0-60214eb6da6b\" class=\"colab-df-container\">\n",
              "    <div>\n",
              "<style scoped>\n",
              "    .dataframe tbody tr th:only-of-type {\n",
              "        vertical-align: middle;\n",
              "    }\n",
              "\n",
              "    .dataframe tbody tr th {\n",
              "        vertical-align: top;\n",
              "    }\n",
              "\n",
              "    .dataframe thead th {\n",
              "        text-align: right;\n",
              "    }\n",
              "</style>\n",
              "<table border=\"1\" class=\"dataframe\">\n",
              "  <thead>\n",
              "    <tr style=\"text-align: right;\">\n",
              "      <th></th>\n",
              "      <th>title</th>\n",
              "      <th>text</th>\n",
              "      <th>subject</th>\n",
              "      <th>date</th>\n",
              "      <th>class</th>\n",
              "    </tr>\n",
              "  </thead>\n",
              "  <tbody>\n",
              "    <tr>\n",
              "      <th>0</th>\n",
              "      <td>Alabama Republican Governor BUSTED Lying To C...</td>\n",
              "      <td>They say the cover-up is always worse than the...</td>\n",
              "      <td>News</td>\n",
              "      <td>August 12, 2016</td>\n",
              "      <td>0</td>\n",
              "    </tr>\n",
              "    <tr>\n",
              "      <th>1</th>\n",
              "      <td>Bernie Sanders Lets Chuck Todd Know If He’s W...</td>\n",
              "      <td>With the Democratic primary process drawing to...</td>\n",
              "      <td>News</td>\n",
              "      <td>May 29, 2016</td>\n",
              "      <td>0</td>\n",
              "    </tr>\n",
              "    <tr>\n",
              "      <th>2</th>\n",
              "      <td>Paul Ryan Takes A Monumentally HUMILIATING Ph...</td>\n",
              "      <td>Politicians are all about photo-ops. This is e...</td>\n",
              "      <td>News</td>\n",
              "      <td>May 7, 2017</td>\n",
              "      <td>0</td>\n",
              "    </tr>\n",
              "    <tr>\n",
              "      <th>3</th>\n",
              "      <td>Trump Supporter In Phoenix Just Threatened Jo...</td>\n",
              "      <td>Donald Trump, in his ongoing effort to spur on...</td>\n",
              "      <td>News</td>\n",
              "      <td>August 22, 2017</td>\n",
              "      <td>0</td>\n",
              "    </tr>\n",
              "    <tr>\n",
              "      <th>4</th>\n",
              "      <td>This North Carolina High School Just Made It ...</td>\n",
              "      <td>It s hard to believe that so many people are s...</td>\n",
              "      <td>News</td>\n",
              "      <td>May 11, 2016</td>\n",
              "      <td>0</td>\n",
              "    </tr>\n",
              "  </tbody>\n",
              "</table>\n",
              "</div>\n",
              "    <div class=\"colab-df-buttons\">\n",
              "\n",
              "  <div class=\"colab-df-container\">\n",
              "    <button class=\"colab-df-convert\" onclick=\"convertToInteractive('df-5981bead-3243-4274-89b0-60214eb6da6b')\"\n",
              "            title=\"Convert this dataframe to an interactive table.\"\n",
              "            style=\"display:none;\">\n",
              "\n",
              "  <svg xmlns=\"http://www.w3.org/2000/svg\" height=\"24px\" viewBox=\"0 -960 960 960\">\n",
              "    <path d=\"M120-120v-720h720v720H120Zm60-500h600v-160H180v160Zm220 220h160v-160H400v160Zm0 220h160v-160H400v160ZM180-400h160v-160H180v160Zm440 0h160v-160H620v160ZM180-180h160v-160H180v160Zm440 0h160v-160H620v160Z\"/>\n",
              "  </svg>\n",
              "    </button>\n",
              "\n",
              "  <style>\n",
              "    .colab-df-container {\n",
              "      display:flex;\n",
              "      gap: 12px;\n",
              "    }\n",
              "\n",
              "    .colab-df-convert {\n",
              "      background-color: #E8F0FE;\n",
              "      border: none;\n",
              "      border-radius: 50%;\n",
              "      cursor: pointer;\n",
              "      display: none;\n",
              "      fill: #1967D2;\n",
              "      height: 32px;\n",
              "      padding: 0 0 0 0;\n",
              "      width: 32px;\n",
              "    }\n",
              "\n",
              "    .colab-df-convert:hover {\n",
              "      background-color: #E2EBFA;\n",
              "      box-shadow: 0px 1px 2px rgba(60, 64, 67, 0.3), 0px 1px 3px 1px rgba(60, 64, 67, 0.15);\n",
              "      fill: #174EA6;\n",
              "    }\n",
              "\n",
              "    .colab-df-buttons div {\n",
              "      margin-bottom: 4px;\n",
              "    }\n",
              "\n",
              "    [theme=dark] .colab-df-convert {\n",
              "      background-color: #3B4455;\n",
              "      fill: #D2E3FC;\n",
              "    }\n",
              "\n",
              "    [theme=dark] .colab-df-convert:hover {\n",
              "      background-color: #434B5C;\n",
              "      box-shadow: 0px 1px 3px 1px rgba(0, 0, 0, 0.15);\n",
              "      filter: drop-shadow(0px 1px 2px rgba(0, 0, 0, 0.3));\n",
              "      fill: #FFFFFF;\n",
              "    }\n",
              "  </style>\n",
              "\n",
              "    <script>\n",
              "      const buttonEl =\n",
              "        document.querySelector('#df-5981bead-3243-4274-89b0-60214eb6da6b button.colab-df-convert');\n",
              "      buttonEl.style.display =\n",
              "        google.colab.kernel.accessAllowed ? 'block' : 'none';\n",
              "\n",
              "      async function convertToInteractive(key) {\n",
              "        const element = document.querySelector('#df-5981bead-3243-4274-89b0-60214eb6da6b');\n",
              "        const dataTable =\n",
              "          await google.colab.kernel.invokeFunction('convertToInteractive',\n",
              "                                                    [key], {});\n",
              "        if (!dataTable) return;\n",
              "\n",
              "        const docLinkHtml = 'Like what you see? Visit the ' +\n",
              "          '<a target=\"_blank\" href=https://colab.research.google.com/notebooks/data_table.ipynb>data table notebook</a>'\n",
              "          + ' to learn more about interactive tables.';\n",
              "        element.innerHTML = '';\n",
              "        dataTable['output_type'] = 'display_data';\n",
              "        await google.colab.output.renderOutput(dataTable, element);\n",
              "        const docLink = document.createElement('div');\n",
              "        docLink.innerHTML = docLinkHtml;\n",
              "        element.appendChild(docLink);\n",
              "      }\n",
              "    </script>\n",
              "  </div>\n",
              "\n",
              "\n",
              "    <div id=\"df-279cdfbb-ffa7-481a-9807-2ab9c43a7d4f\">\n",
              "      <button class=\"colab-df-quickchart\" onclick=\"quickchart('df-279cdfbb-ffa7-481a-9807-2ab9c43a7d4f')\"\n",
              "                title=\"Suggest charts\"\n",
              "                style=\"display:none;\">\n",
              "\n",
              "<svg xmlns=\"http://www.w3.org/2000/svg\" height=\"24px\"viewBox=\"0 0 24 24\"\n",
              "     width=\"24px\">\n",
              "    <g>\n",
              "        <path d=\"M19 3H5c-1.1 0-2 .9-2 2v14c0 1.1.9 2 2 2h14c1.1 0 2-.9 2-2V5c0-1.1-.9-2-2-2zM9 17H7v-7h2v7zm4 0h-2V7h2v10zm4 0h-2v-4h2v4z\"/>\n",
              "    </g>\n",
              "</svg>\n",
              "      </button>\n",
              "\n",
              "<style>\n",
              "  .colab-df-quickchart {\n",
              "      --bg-color: #E8F0FE;\n",
              "      --fill-color: #1967D2;\n",
              "      --hover-bg-color: #E2EBFA;\n",
              "      --hover-fill-color: #174EA6;\n",
              "      --disabled-fill-color: #AAA;\n",
              "      --disabled-bg-color: #DDD;\n",
              "  }\n",
              "\n",
              "  [theme=dark] .colab-df-quickchart {\n",
              "      --bg-color: #3B4455;\n",
              "      --fill-color: #D2E3FC;\n",
              "      --hover-bg-color: #434B5C;\n",
              "      --hover-fill-color: #FFFFFF;\n",
              "      --disabled-bg-color: #3B4455;\n",
              "      --disabled-fill-color: #666;\n",
              "  }\n",
              "\n",
              "  .colab-df-quickchart {\n",
              "    background-color: var(--bg-color);\n",
              "    border: none;\n",
              "    border-radius: 50%;\n",
              "    cursor: pointer;\n",
              "    display: none;\n",
              "    fill: var(--fill-color);\n",
              "    height: 32px;\n",
              "    padding: 0;\n",
              "    width: 32px;\n",
              "  }\n",
              "\n",
              "  .colab-df-quickchart:hover {\n",
              "    background-color: var(--hover-bg-color);\n",
              "    box-shadow: 0 1px 2px rgba(60, 64, 67, 0.3), 0 1px 3px 1px rgba(60, 64, 67, 0.15);\n",
              "    fill: var(--button-hover-fill-color);\n",
              "  }\n",
              "\n",
              "  .colab-df-quickchart-complete:disabled,\n",
              "  .colab-df-quickchart-complete:disabled:hover {\n",
              "    background-color: var(--disabled-bg-color);\n",
              "    fill: var(--disabled-fill-color);\n",
              "    box-shadow: none;\n",
              "  }\n",
              "\n",
              "  .colab-df-spinner {\n",
              "    border: 2px solid var(--fill-color);\n",
              "    border-color: transparent;\n",
              "    border-bottom-color: var(--fill-color);\n",
              "    animation:\n",
              "      spin 1s steps(1) infinite;\n",
              "  }\n",
              "\n",
              "  @keyframes spin {\n",
              "    0% {\n",
              "      border-color: transparent;\n",
              "      border-bottom-color: var(--fill-color);\n",
              "      border-left-color: var(--fill-color);\n",
              "    }\n",
              "    20% {\n",
              "      border-color: transparent;\n",
              "      border-left-color: var(--fill-color);\n",
              "      border-top-color: var(--fill-color);\n",
              "    }\n",
              "    30% {\n",
              "      border-color: transparent;\n",
              "      border-left-color: var(--fill-color);\n",
              "      border-top-color: var(--fill-color);\n",
              "      border-right-color: var(--fill-color);\n",
              "    }\n",
              "    40% {\n",
              "      border-color: transparent;\n",
              "      border-right-color: var(--fill-color);\n",
              "      border-top-color: var(--fill-color);\n",
              "    }\n",
              "    60% {\n",
              "      border-color: transparent;\n",
              "      border-right-color: var(--fill-color);\n",
              "    }\n",
              "    80% {\n",
              "      border-color: transparent;\n",
              "      border-right-color: var(--fill-color);\n",
              "      border-bottom-color: var(--fill-color);\n",
              "    }\n",
              "    90% {\n",
              "      border-color: transparent;\n",
              "      border-bottom-color: var(--fill-color);\n",
              "    }\n",
              "  }\n",
              "</style>\n",
              "\n",
              "      <script>\n",
              "        async function quickchart(key) {\n",
              "          const quickchartButtonEl =\n",
              "            document.querySelector('#' + key + ' button');\n",
              "          quickchartButtonEl.disabled = true;  // To prevent multiple clicks.\n",
              "          quickchartButtonEl.classList.add('colab-df-spinner');\n",
              "          try {\n",
              "            const charts = await google.colab.kernel.invokeFunction(\n",
              "                'suggestCharts', [key], {});\n",
              "          } catch (error) {\n",
              "            console.error('Error during call to suggestCharts:', error);\n",
              "          }\n",
              "          quickchartButtonEl.classList.remove('colab-df-spinner');\n",
              "          quickchartButtonEl.classList.add('colab-df-quickchart-complete');\n",
              "        }\n",
              "        (() => {\n",
              "          let quickchartButtonEl =\n",
              "            document.querySelector('#df-279cdfbb-ffa7-481a-9807-2ab9c43a7d4f button');\n",
              "          quickchartButtonEl.style.display =\n",
              "            google.colab.kernel.accessAllowed ? 'block' : 'none';\n",
              "        })();\n",
              "      </script>\n",
              "    </div>\n",
              "\n",
              "    </div>\n",
              "  </div>\n"
            ],
            "application/vnd.google.colaboratory.intrinsic+json": {
              "type": "dataframe",
              "variable_name": "data",
              "summary": "{\n  \"name\": \"data\",\n  \"rows\": 9018,\n  \"fields\": [\n    {\n      \"column\": \"title\",\n      \"properties\": {\n        \"dtype\": \"string\",\n        \"num_unique_values\": 9005,\n        \"samples\": [\n          \" WATCH: Teacher Whitesplains His Use Of \\u2018N***er\\u2019 To Black Student, Fails MISERABLY (VIDEO)\",\n          \"Trump pardons turkey in annual Thanksgiving tradition\",\n          \" Trump Blames Baton Rouge Police Shooting On Obama\\u2019s \\u2018Lack Of Leadership\\u2019 (TWEETS)\"\n        ],\n        \"semantic_type\": \"\",\n        \"description\": \"\"\n      }\n    },\n    {\n      \"column\": \"text\",\n      \"properties\": {\n        \"dtype\": \"string\",\n        \"num_unique_values\": 9005,\n        \"samples\": [\n          \"WASHINGTON (Reuters) - The U.S. Justice Department is weighing whether a financial enforcement task force created during the Obama administration in the wake of the housing crisis is still relevant, Deputy Attorney General Rod Rosenstein said Wednesday. The department\\u2019s scrutiny of the Financial Fraud Enforcement Task Force is part of a broader review by a new working group, which Rosenstein said will be offering up suggestions \\u201con promoting individual accountability and corporate cooperation.\\u201d \\u201cWe are also reviewing the mandate of the Financial Fraud Enforcement Task Force to evaluate whether it continues to meet current needs,\\u201d Rosenstein said in a speech to the U.S. Chamber of Commerce, without giving specific reasons for the review. The financial task force was launched in November 2009 by former Attorney General Eric Holder, former Securities and Exchange Commission Chairwoman Mary Schapiro and other top government officials. The group was tasked with unearthing fraud following the  2007-2009 financial crisis, including fraud related to toxic mortgage securities that were sold to investors and soured as homeowners defaulted on their mortgages. The Justice Department was heavily criticized during the Obama administration for its lackluster record on bringing criminal cases against big banks and their executives following the crisis. The five-year statute of limitations to bring criminal charges has long since lapsed. However, the department in recent years has brought a number of high-profile civil cases against big banks using the Financial Institutions Reform, Recovery and Enforcement Act, which has a 10-year statute of limitations. The task force was credited by the department in helping bring a number of those crisis-era cases, as well as other cases unrelated to the crisis, such as criminal charges against a former Valeant executive in connection with an alleged kickback scheme. Rosenstein has previously said the department is reviewing its corporate prosecution policy outlined under the so-called Yates Memo, penned by his predecessor Sally Yates during the Obama administration. That memo emphasized holding individuals accountable and called on companies to cooperate by providing the department details about people who may have been involved in wrongdoing. Rosenstein did not announce any changes on Wednesday, though he said the department will carefully weigh whether companies cooperate and if their compliance programs are \\u201capplied faithfully.\\u201d Without mentioning any company by name, he warned about the risks of delaying in disclosing cyber attacks, saying it \\u201cmay prevent other innocent parties from taking steps to protect themselves.\\u201d Equifax Inc has recently come under heavy criticism for delays in reporting a massive breach that may have exposed more than 145 million U.S. customers. \",\n          \"WASHINGTON (Reuters) - President Donald Trump, who has raised eyebrows by mulling his power to pardon as investigators probe possible ties between his 2016 election campaign and Russia, used his authority in a less controversial way on Tuesday to \\u201cpardon\\u201d a Thanksgiving turkey. Joined by his wife, Melania, and their son, Barron, Trump entered the Rose Garden for the annual presidential tradition and granted freedom to a large white bird named Drumstick. Americans traditionally feast on turkey, stuffing and other delights on the Thanksgiving holiday, which takes place this coming Thursday, but Drumstick and his pal Wishbone were granted a reprieve. \\u201cI\\u2019m pleased to report that, unlike millions of other turkeys at this time of the year, Drumstick has a very, very bright future ahead of him,\\u201d Trump said. The Republican president couldn\\u2019t resist referring to his predecessor, former Democratic President Barack Obama, who pardoned two turkeys named Tater and Tot last year. \\u201cAs many of you know, I have been very active in overturning a number of executive actions by my predecessor,\\u201d Trump quipped. \\u201cHowever, I have been informed by the White House Counsel\\u2019s Office that Tater and Tot\\u2019s pardons cannot, under any circumstances, be revoked.\\u201d The turkeys will live at an enclosure at a nearby university, Virginia Tech. Allegations of potential ties between Trump\\u2019s presidential campaign and Moscow have loomed over the White House and investigations are ongoing. Trump and Moscow have denied collusion. In a message on Twitter in July, Trump noted that as president he had \\u201ccomplete power to pardon.\\u201d  \",\n          \"Everyone is fed up with Donald Trump s blatant racism with his disgusting attacks on black athletes who are using their platform to shine a light on the deadly racist policing problem in America. Case in point   Senator Kamala Harris (D-CA). Senator Harris is one of the few women of color in the United States Senate, so this definitely hits close to home for her. On Sunday morning, while speaking at an Atlanta Church, Senator Harris ripped Trump for his attacks, all the while eloquently and passionately going to bat for the players who are exercising their First Amendment rights. She told the congregation at the First Congregational Church: Let s speak the truth that when Americans demand recognition that their lives matter, or kneel to call attention to injustice, that that is an expression of free speech, protected by our Constitution, and they should not be threatened or bullied. When we sing  The Star-Spangled Banner,  we rightly think about the brave men and women from all backgrounds who proudly defend the freedom of those they may never meet and people who will never know their names. When we sing  The Star-Spangled Banner,  we also think about those marching in the streets who demand that the ideals of that flag represent them too. That s exactly right. America is a wonderful ideal, but it isn t applied to everyone equally. That often has deadly consequences, and we see this racist pattern over and over again. That flag belongs to all of us, and until things are truly equal, it is not just a right to protest this injustice. It is a responsibility. Sure, the racists of America would have us believe that the flag and the nation belong to them. They want people to remain second-class citizens. Of course, they will never say it. Instead, they want to pretend that the last 52 years erased the attitudes that contributed to the white supremacy upon which this nation was founded.We all know that it isn t true, though. Good on Kamala Harris for speaking truth to power. She will surely be attacked by Trump, but this strong woman of color will not be intimidated by that orange fool.Watch her epic speech below:Featured image via Drew Angerer/Getty Images\"\n        ],\n        \"semantic_type\": \"\",\n        \"description\": \"\"\n      }\n    },\n    {\n      \"column\": \"subject\",\n      \"properties\": {\n        \"dtype\": \"category\",\n        \"num_unique_values\": 2,\n        \"samples\": [\n          \"politicsNews\",\n          \"News\"\n        ],\n        \"semantic_type\": \"\",\n        \"description\": \"\"\n      }\n    },\n    {\n      \"column\": \"date\",\n      \"properties\": {\n        \"dtype\": \"category\",\n        \"num_unique_values\": 754,\n        \"samples\": [\n          \"November 7, 2016\",\n          \"October 27, 2016\"\n        ],\n        \"semantic_type\": \"\",\n        \"description\": \"\"\n      }\n    },\n    {\n      \"column\": \"class\",\n      \"properties\": {\n        \"dtype\": \"number\",\n        \"std\": 0,\n        \"min\": 0,\n        \"max\": 1,\n        \"num_unique_values\": 2,\n        \"samples\": [\n          1,\n          0\n        ],\n        \"semantic_type\": \"\",\n        \"description\": \"\"\n      }\n    }\n  ]\n}"
            }
          },
          "metadata": {},
          "execution_count": 12
        }
      ],
      "source": [
        "data.head()"
      ]
    },
    {
      "cell_type": "code",
      "execution_count": null,
      "metadata": {
        "colab": {
          "base_uri": "https://localhost:8080/"
        },
        "id": "-2xOFB0_K4R9",
        "outputId": "3064aab2-8480-4509-8ef5-64c9c1d99f4c"
      },
      "outputs": [
        {
          "output_type": "execute_result",
          "data": {
            "text/plain": [
              "Index(['title', 'text', 'subject', 'date', 'class'], dtype='object')"
            ]
          },
          "metadata": {},
          "execution_count": 13
        }
      ],
      "source": [
        "data.columns"
      ]
    },
    {
      "cell_type": "code",
      "execution_count": null,
      "metadata": {
        "id": "y9lgu1oSNDY5"
      },
      "outputs": [],
      "source": [
        "data=data.drop(['title','subject','date'],axis=1)"
      ]
    },
    {
      "cell_type": "code",
      "execution_count": null,
      "metadata": {
        "colab": {
          "base_uri": "https://localhost:8080/",
          "height": 206
        },
        "id": "HlW0c2yqNDbB",
        "outputId": "3b26967d-0fdd-4ce3-d433-8f42c001e7ba"
      },
      "outputs": [
        {
          "output_type": "execute_result",
          "data": {
            "text/plain": [
              "                                                text  class\n",
              "0  They say the cover-up is always worse than the...      0\n",
              "1  With the Democratic primary process drawing to...      0\n",
              "2  Politicians are all about photo-ops. This is e...      0\n",
              "3  Donald Trump, in his ongoing effort to spur on...      0\n",
              "4  It s hard to believe that so many people are s...      0"
            ],
            "text/html": [
              "\n",
              "  <div id=\"df-e1c1d900-e628-45f6-825f-282786565774\" class=\"colab-df-container\">\n",
              "    <div>\n",
              "<style scoped>\n",
              "    .dataframe tbody tr th:only-of-type {\n",
              "        vertical-align: middle;\n",
              "    }\n",
              "\n",
              "    .dataframe tbody tr th {\n",
              "        vertical-align: top;\n",
              "    }\n",
              "\n",
              "    .dataframe thead th {\n",
              "        text-align: right;\n",
              "    }\n",
              "</style>\n",
              "<table border=\"1\" class=\"dataframe\">\n",
              "  <thead>\n",
              "    <tr style=\"text-align: right;\">\n",
              "      <th></th>\n",
              "      <th>text</th>\n",
              "      <th>class</th>\n",
              "    </tr>\n",
              "  </thead>\n",
              "  <tbody>\n",
              "    <tr>\n",
              "      <th>0</th>\n",
              "      <td>They say the cover-up is always worse than the...</td>\n",
              "      <td>0</td>\n",
              "    </tr>\n",
              "    <tr>\n",
              "      <th>1</th>\n",
              "      <td>With the Democratic primary process drawing to...</td>\n",
              "      <td>0</td>\n",
              "    </tr>\n",
              "    <tr>\n",
              "      <th>2</th>\n",
              "      <td>Politicians are all about photo-ops. This is e...</td>\n",
              "      <td>0</td>\n",
              "    </tr>\n",
              "    <tr>\n",
              "      <th>3</th>\n",
              "      <td>Donald Trump, in his ongoing effort to spur on...</td>\n",
              "      <td>0</td>\n",
              "    </tr>\n",
              "    <tr>\n",
              "      <th>4</th>\n",
              "      <td>It s hard to believe that so many people are s...</td>\n",
              "      <td>0</td>\n",
              "    </tr>\n",
              "  </tbody>\n",
              "</table>\n",
              "</div>\n",
              "    <div class=\"colab-df-buttons\">\n",
              "\n",
              "  <div class=\"colab-df-container\">\n",
              "    <button class=\"colab-df-convert\" onclick=\"convertToInteractive('df-e1c1d900-e628-45f6-825f-282786565774')\"\n",
              "            title=\"Convert this dataframe to an interactive table.\"\n",
              "            style=\"display:none;\">\n",
              "\n",
              "  <svg xmlns=\"http://www.w3.org/2000/svg\" height=\"24px\" viewBox=\"0 -960 960 960\">\n",
              "    <path d=\"M120-120v-720h720v720H120Zm60-500h600v-160H180v160Zm220 220h160v-160H400v160Zm0 220h160v-160H400v160ZM180-400h160v-160H180v160Zm440 0h160v-160H620v160ZM180-180h160v-160H180v160Zm440 0h160v-160H620v160Z\"/>\n",
              "  </svg>\n",
              "    </button>\n",
              "\n",
              "  <style>\n",
              "    .colab-df-container {\n",
              "      display:flex;\n",
              "      gap: 12px;\n",
              "    }\n",
              "\n",
              "    .colab-df-convert {\n",
              "      background-color: #E8F0FE;\n",
              "      border: none;\n",
              "      border-radius: 50%;\n",
              "      cursor: pointer;\n",
              "      display: none;\n",
              "      fill: #1967D2;\n",
              "      height: 32px;\n",
              "      padding: 0 0 0 0;\n",
              "      width: 32px;\n",
              "    }\n",
              "\n",
              "    .colab-df-convert:hover {\n",
              "      background-color: #E2EBFA;\n",
              "      box-shadow: 0px 1px 2px rgba(60, 64, 67, 0.3), 0px 1px 3px 1px rgba(60, 64, 67, 0.15);\n",
              "      fill: #174EA6;\n",
              "    }\n",
              "\n",
              "    .colab-df-buttons div {\n",
              "      margin-bottom: 4px;\n",
              "    }\n",
              "\n",
              "    [theme=dark] .colab-df-convert {\n",
              "      background-color: #3B4455;\n",
              "      fill: #D2E3FC;\n",
              "    }\n",
              "\n",
              "    [theme=dark] .colab-df-convert:hover {\n",
              "      background-color: #434B5C;\n",
              "      box-shadow: 0px 1px 3px 1px rgba(0, 0, 0, 0.15);\n",
              "      filter: drop-shadow(0px 1px 2px rgba(0, 0, 0, 0.3));\n",
              "      fill: #FFFFFF;\n",
              "    }\n",
              "  </style>\n",
              "\n",
              "    <script>\n",
              "      const buttonEl =\n",
              "        document.querySelector('#df-e1c1d900-e628-45f6-825f-282786565774 button.colab-df-convert');\n",
              "      buttonEl.style.display =\n",
              "        google.colab.kernel.accessAllowed ? 'block' : 'none';\n",
              "\n",
              "      async function convertToInteractive(key) {\n",
              "        const element = document.querySelector('#df-e1c1d900-e628-45f6-825f-282786565774');\n",
              "        const dataTable =\n",
              "          await google.colab.kernel.invokeFunction('convertToInteractive',\n",
              "                                                    [key], {});\n",
              "        if (!dataTable) return;\n",
              "\n",
              "        const docLinkHtml = 'Like what you see? Visit the ' +\n",
              "          '<a target=\"_blank\" href=https://colab.research.google.com/notebooks/data_table.ipynb>data table notebook</a>'\n",
              "          + ' to learn more about interactive tables.';\n",
              "        element.innerHTML = '';\n",
              "        dataTable['output_type'] = 'display_data';\n",
              "        await google.colab.output.renderOutput(dataTable, element);\n",
              "        const docLink = document.createElement('div');\n",
              "        docLink.innerHTML = docLinkHtml;\n",
              "        element.appendChild(docLink);\n",
              "      }\n",
              "    </script>\n",
              "  </div>\n",
              "\n",
              "\n",
              "    <div id=\"df-434d7b03-1e36-427a-8949-20bbb774df72\">\n",
              "      <button class=\"colab-df-quickchart\" onclick=\"quickchart('df-434d7b03-1e36-427a-8949-20bbb774df72')\"\n",
              "                title=\"Suggest charts\"\n",
              "                style=\"display:none;\">\n",
              "\n",
              "<svg xmlns=\"http://www.w3.org/2000/svg\" height=\"24px\"viewBox=\"0 0 24 24\"\n",
              "     width=\"24px\">\n",
              "    <g>\n",
              "        <path d=\"M19 3H5c-1.1 0-2 .9-2 2v14c0 1.1.9 2 2 2h14c1.1 0 2-.9 2-2V5c0-1.1-.9-2-2-2zM9 17H7v-7h2v7zm4 0h-2V7h2v10zm4 0h-2v-4h2v4z\"/>\n",
              "    </g>\n",
              "</svg>\n",
              "      </button>\n",
              "\n",
              "<style>\n",
              "  .colab-df-quickchart {\n",
              "      --bg-color: #E8F0FE;\n",
              "      --fill-color: #1967D2;\n",
              "      --hover-bg-color: #E2EBFA;\n",
              "      --hover-fill-color: #174EA6;\n",
              "      --disabled-fill-color: #AAA;\n",
              "      --disabled-bg-color: #DDD;\n",
              "  }\n",
              "\n",
              "  [theme=dark] .colab-df-quickchart {\n",
              "      --bg-color: #3B4455;\n",
              "      --fill-color: #D2E3FC;\n",
              "      --hover-bg-color: #434B5C;\n",
              "      --hover-fill-color: #FFFFFF;\n",
              "      --disabled-bg-color: #3B4455;\n",
              "      --disabled-fill-color: #666;\n",
              "  }\n",
              "\n",
              "  .colab-df-quickchart {\n",
              "    background-color: var(--bg-color);\n",
              "    border: none;\n",
              "    border-radius: 50%;\n",
              "    cursor: pointer;\n",
              "    display: none;\n",
              "    fill: var(--fill-color);\n",
              "    height: 32px;\n",
              "    padding: 0;\n",
              "    width: 32px;\n",
              "  }\n",
              "\n",
              "  .colab-df-quickchart:hover {\n",
              "    background-color: var(--hover-bg-color);\n",
              "    box-shadow: 0 1px 2px rgba(60, 64, 67, 0.3), 0 1px 3px 1px rgba(60, 64, 67, 0.15);\n",
              "    fill: var(--button-hover-fill-color);\n",
              "  }\n",
              "\n",
              "  .colab-df-quickchart-complete:disabled,\n",
              "  .colab-df-quickchart-complete:disabled:hover {\n",
              "    background-color: var(--disabled-bg-color);\n",
              "    fill: var(--disabled-fill-color);\n",
              "    box-shadow: none;\n",
              "  }\n",
              "\n",
              "  .colab-df-spinner {\n",
              "    border: 2px solid var(--fill-color);\n",
              "    border-color: transparent;\n",
              "    border-bottom-color: var(--fill-color);\n",
              "    animation:\n",
              "      spin 1s steps(1) infinite;\n",
              "  }\n",
              "\n",
              "  @keyframes spin {\n",
              "    0% {\n",
              "      border-color: transparent;\n",
              "      border-bottom-color: var(--fill-color);\n",
              "      border-left-color: var(--fill-color);\n",
              "    }\n",
              "    20% {\n",
              "      border-color: transparent;\n",
              "      border-left-color: var(--fill-color);\n",
              "      border-top-color: var(--fill-color);\n",
              "    }\n",
              "    30% {\n",
              "      border-color: transparent;\n",
              "      border-left-color: var(--fill-color);\n",
              "      border-top-color: var(--fill-color);\n",
              "      border-right-color: var(--fill-color);\n",
              "    }\n",
              "    40% {\n",
              "      border-color: transparent;\n",
              "      border-right-color: var(--fill-color);\n",
              "      border-top-color: var(--fill-color);\n",
              "    }\n",
              "    60% {\n",
              "      border-color: transparent;\n",
              "      border-right-color: var(--fill-color);\n",
              "    }\n",
              "    80% {\n",
              "      border-color: transparent;\n",
              "      border-right-color: var(--fill-color);\n",
              "      border-bottom-color: var(--fill-color);\n",
              "    }\n",
              "    90% {\n",
              "      border-color: transparent;\n",
              "      border-bottom-color: var(--fill-color);\n",
              "    }\n",
              "  }\n",
              "</style>\n",
              "\n",
              "      <script>\n",
              "        async function quickchart(key) {\n",
              "          const quickchartButtonEl =\n",
              "            document.querySelector('#' + key + ' button');\n",
              "          quickchartButtonEl.disabled = true;  // To prevent multiple clicks.\n",
              "          quickchartButtonEl.classList.add('colab-df-spinner');\n",
              "          try {\n",
              "            const charts = await google.colab.kernel.invokeFunction(\n",
              "                'suggestCharts', [key], {});\n",
              "          } catch (error) {\n",
              "            console.error('Error during call to suggestCharts:', error);\n",
              "          }\n",
              "          quickchartButtonEl.classList.remove('colab-df-spinner');\n",
              "          quickchartButtonEl.classList.add('colab-df-quickchart-complete');\n",
              "        }\n",
              "        (() => {\n",
              "          let quickchartButtonEl =\n",
              "            document.querySelector('#df-434d7b03-1e36-427a-8949-20bbb774df72 button');\n",
              "          quickchartButtonEl.style.display =\n",
              "            google.colab.kernel.accessAllowed ? 'block' : 'none';\n",
              "        })();\n",
              "      </script>\n",
              "    </div>\n",
              "\n",
              "    </div>\n",
              "  </div>\n"
            ],
            "application/vnd.google.colaboratory.intrinsic+json": {
              "type": "dataframe",
              "variable_name": "data",
              "summary": "{\n  \"name\": \"data\",\n  \"rows\": 9018,\n  \"fields\": [\n    {\n      \"column\": \"text\",\n      \"properties\": {\n        \"dtype\": \"string\",\n        \"num_unique_values\": 9005,\n        \"samples\": [\n          \"WASHINGTON (Reuters) - The U.S. Justice Department is weighing whether a financial enforcement task force created during the Obama administration in the wake of the housing crisis is still relevant, Deputy Attorney General Rod Rosenstein said Wednesday. The department\\u2019s scrutiny of the Financial Fraud Enforcement Task Force is part of a broader review by a new working group, which Rosenstein said will be offering up suggestions \\u201con promoting individual accountability and corporate cooperation.\\u201d \\u201cWe are also reviewing the mandate of the Financial Fraud Enforcement Task Force to evaluate whether it continues to meet current needs,\\u201d Rosenstein said in a speech to the U.S. Chamber of Commerce, without giving specific reasons for the review. The financial task force was launched in November 2009 by former Attorney General Eric Holder, former Securities and Exchange Commission Chairwoman Mary Schapiro and other top government officials. The group was tasked with unearthing fraud following the  2007-2009 financial crisis, including fraud related to toxic mortgage securities that were sold to investors and soured as homeowners defaulted on their mortgages. The Justice Department was heavily criticized during the Obama administration for its lackluster record on bringing criminal cases against big banks and their executives following the crisis. The five-year statute of limitations to bring criminal charges has long since lapsed. However, the department in recent years has brought a number of high-profile civil cases against big banks using the Financial Institutions Reform, Recovery and Enforcement Act, which has a 10-year statute of limitations. The task force was credited by the department in helping bring a number of those crisis-era cases, as well as other cases unrelated to the crisis, such as criminal charges against a former Valeant executive in connection with an alleged kickback scheme. Rosenstein has previously said the department is reviewing its corporate prosecution policy outlined under the so-called Yates Memo, penned by his predecessor Sally Yates during the Obama administration. That memo emphasized holding individuals accountable and called on companies to cooperate by providing the department details about people who may have been involved in wrongdoing. Rosenstein did not announce any changes on Wednesday, though he said the department will carefully weigh whether companies cooperate and if their compliance programs are \\u201capplied faithfully.\\u201d Without mentioning any company by name, he warned about the risks of delaying in disclosing cyber attacks, saying it \\u201cmay prevent other innocent parties from taking steps to protect themselves.\\u201d Equifax Inc has recently come under heavy criticism for delays in reporting a massive breach that may have exposed more than 145 million U.S. customers. \",\n          \"WASHINGTON (Reuters) - President Donald Trump, who has raised eyebrows by mulling his power to pardon as investigators probe possible ties between his 2016 election campaign and Russia, used his authority in a less controversial way on Tuesday to \\u201cpardon\\u201d a Thanksgiving turkey. Joined by his wife, Melania, and their son, Barron, Trump entered the Rose Garden for the annual presidential tradition and granted freedom to a large white bird named Drumstick. Americans traditionally feast on turkey, stuffing and other delights on the Thanksgiving holiday, which takes place this coming Thursday, but Drumstick and his pal Wishbone were granted a reprieve. \\u201cI\\u2019m pleased to report that, unlike millions of other turkeys at this time of the year, Drumstick has a very, very bright future ahead of him,\\u201d Trump said. The Republican president couldn\\u2019t resist referring to his predecessor, former Democratic President Barack Obama, who pardoned two turkeys named Tater and Tot last year. \\u201cAs many of you know, I have been very active in overturning a number of executive actions by my predecessor,\\u201d Trump quipped. \\u201cHowever, I have been informed by the White House Counsel\\u2019s Office that Tater and Tot\\u2019s pardons cannot, under any circumstances, be revoked.\\u201d The turkeys will live at an enclosure at a nearby university, Virginia Tech. Allegations of potential ties between Trump\\u2019s presidential campaign and Moscow have loomed over the White House and investigations are ongoing. Trump and Moscow have denied collusion. In a message on Twitter in July, Trump noted that as president he had \\u201ccomplete power to pardon.\\u201d  \",\n          \"Everyone is fed up with Donald Trump s blatant racism with his disgusting attacks on black athletes who are using their platform to shine a light on the deadly racist policing problem in America. Case in point   Senator Kamala Harris (D-CA). Senator Harris is one of the few women of color in the United States Senate, so this definitely hits close to home for her. On Sunday morning, while speaking at an Atlanta Church, Senator Harris ripped Trump for his attacks, all the while eloquently and passionately going to bat for the players who are exercising their First Amendment rights. She told the congregation at the First Congregational Church: Let s speak the truth that when Americans demand recognition that their lives matter, or kneel to call attention to injustice, that that is an expression of free speech, protected by our Constitution, and they should not be threatened or bullied. When we sing  The Star-Spangled Banner,  we rightly think about the brave men and women from all backgrounds who proudly defend the freedom of those they may never meet and people who will never know their names. When we sing  The Star-Spangled Banner,  we also think about those marching in the streets who demand that the ideals of that flag represent them too. That s exactly right. America is a wonderful ideal, but it isn t applied to everyone equally. That often has deadly consequences, and we see this racist pattern over and over again. That flag belongs to all of us, and until things are truly equal, it is not just a right to protest this injustice. It is a responsibility. Sure, the racists of America would have us believe that the flag and the nation belong to them. They want people to remain second-class citizens. Of course, they will never say it. Instead, they want to pretend that the last 52 years erased the attitudes that contributed to the white supremacy upon which this nation was founded.We all know that it isn t true, though. Good on Kamala Harris for speaking truth to power. She will surely be attacked by Trump, but this strong woman of color will not be intimidated by that orange fool.Watch her epic speech below:Featured image via Drew Angerer/Getty Images\"\n        ],\n        \"semantic_type\": \"\",\n        \"description\": \"\"\n      }\n    },\n    {\n      \"column\": \"class\",\n      \"properties\": {\n        \"dtype\": \"number\",\n        \"std\": 0,\n        \"min\": 0,\n        \"max\": 1,\n        \"num_unique_values\": 2,\n        \"samples\": [\n          1,\n          0\n        ],\n        \"semantic_type\": \"\",\n        \"description\": \"\"\n      }\n    }\n  ]\n}"
            }
          },
          "metadata": {},
          "execution_count": 15
        }
      ],
      "source": [
        "data.head()"
      ]
    },
    {
      "cell_type": "code",
      "execution_count": null,
      "metadata": {
        "colab": {
          "base_uri": "https://localhost:8080/",
          "height": 147
        },
        "id": "vTifJWxkNDc8",
        "outputId": "3b633105-ab14-44f0-9517-daf3fa600b2a"
      },
      "outputs": [
        {
          "output_type": "execute_result",
          "data": {
            "text/plain": [
              "text     0\n",
              "class    0\n",
              "dtype: int64"
            ],
            "text/html": [
              "<div>\n",
              "<style scoped>\n",
              "    .dataframe tbody tr th:only-of-type {\n",
              "        vertical-align: middle;\n",
              "    }\n",
              "\n",
              "    .dataframe tbody tr th {\n",
              "        vertical-align: top;\n",
              "    }\n",
              "\n",
              "    .dataframe thead th {\n",
              "        text-align: right;\n",
              "    }\n",
              "</style>\n",
              "<table border=\"1\" class=\"dataframe\">\n",
              "  <thead>\n",
              "    <tr style=\"text-align: right;\">\n",
              "      <th></th>\n",
              "      <th>0</th>\n",
              "    </tr>\n",
              "  </thead>\n",
              "  <tbody>\n",
              "    <tr>\n",
              "      <th>text</th>\n",
              "      <td>0</td>\n",
              "    </tr>\n",
              "    <tr>\n",
              "      <th>class</th>\n",
              "      <td>0</td>\n",
              "    </tr>\n",
              "  </tbody>\n",
              "</table>\n",
              "</div><br><label><b>dtype:</b> int64</label>"
            ]
          },
          "metadata": {},
          "execution_count": 16
        }
      ],
      "source": [
        "data.isnull().sum()"
      ]
    },
    {
      "cell_type": "code",
      "execution_count": null,
      "metadata": {
        "colab": {
          "base_uri": "https://localhost:8080/"
        },
        "id": "o0LDkvbIOJmB",
        "outputId": "8573505b-df02-47c2-d717-d6308e2ce119"
      },
      "outputs": [
        {
          "output_type": "execute_result",
          "data": {
            "text/plain": [
              "Index(['text', 'class'], dtype='object')"
            ]
          },
          "metadata": {},
          "execution_count": 17
        }
      ],
      "source": [
        "data.columns"
      ]
    },
    {
      "cell_type": "code",
      "execution_count": null,
      "metadata": {
        "id": "I2kBdQlyOJof"
      },
      "outputs": [],
      "source": [
        "data.reset_index(inplace=True)\n",
        "data.drop(['index'],axis=1,inplace=True)"
      ]
    },
    {
      "cell_type": "code",
      "execution_count": null,
      "metadata": {
        "colab": {
          "base_uri": "https://localhost:8080/"
        },
        "id": "vbgyCPRlOJqw",
        "outputId": "63305cb4-c68b-4ee9-8738-235295d16efd"
      },
      "outputs": [
        {
          "output_type": "execute_result",
          "data": {
            "text/plain": [
              "Index(['text', 'class'], dtype='object')"
            ]
          },
          "metadata": {},
          "execution_count": 19
        }
      ],
      "source": [
        "data.columns"
      ]
    },
    {
      "cell_type": "code",
      "execution_count": null,
      "metadata": {
        "colab": {
          "base_uri": "https://localhost:8080/",
          "height": 206
        },
        "id": "nZUr_BUfOJti",
        "outputId": "0bfb4ff6-bd2a-42fd-9518-a7c7746204dc"
      },
      "outputs": [
        {
          "output_type": "execute_result",
          "data": {
            "text/plain": [
              "                                                text  class\n",
              "0  They say the cover-up is always worse than the...      0\n",
              "1  With the Democratic primary process drawing to...      0\n",
              "2  Politicians are all about photo-ops. This is e...      0\n",
              "3  Donald Trump, in his ongoing effort to spur on...      0\n",
              "4  It s hard to believe that so many people are s...      0"
            ],
            "text/html": [
              "\n",
              "  <div id=\"df-1874a6b2-7c81-48bd-80f3-b64741c0c755\" class=\"colab-df-container\">\n",
              "    <div>\n",
              "<style scoped>\n",
              "    .dataframe tbody tr th:only-of-type {\n",
              "        vertical-align: middle;\n",
              "    }\n",
              "\n",
              "    .dataframe tbody tr th {\n",
              "        vertical-align: top;\n",
              "    }\n",
              "\n",
              "    .dataframe thead th {\n",
              "        text-align: right;\n",
              "    }\n",
              "</style>\n",
              "<table border=\"1\" class=\"dataframe\">\n",
              "  <thead>\n",
              "    <tr style=\"text-align: right;\">\n",
              "      <th></th>\n",
              "      <th>text</th>\n",
              "      <th>class</th>\n",
              "    </tr>\n",
              "  </thead>\n",
              "  <tbody>\n",
              "    <tr>\n",
              "      <th>0</th>\n",
              "      <td>They say the cover-up is always worse than the...</td>\n",
              "      <td>0</td>\n",
              "    </tr>\n",
              "    <tr>\n",
              "      <th>1</th>\n",
              "      <td>With the Democratic primary process drawing to...</td>\n",
              "      <td>0</td>\n",
              "    </tr>\n",
              "    <tr>\n",
              "      <th>2</th>\n",
              "      <td>Politicians are all about photo-ops. This is e...</td>\n",
              "      <td>0</td>\n",
              "    </tr>\n",
              "    <tr>\n",
              "      <th>3</th>\n",
              "      <td>Donald Trump, in his ongoing effort to spur on...</td>\n",
              "      <td>0</td>\n",
              "    </tr>\n",
              "    <tr>\n",
              "      <th>4</th>\n",
              "      <td>It s hard to believe that so many people are s...</td>\n",
              "      <td>0</td>\n",
              "    </tr>\n",
              "  </tbody>\n",
              "</table>\n",
              "</div>\n",
              "    <div class=\"colab-df-buttons\">\n",
              "\n",
              "  <div class=\"colab-df-container\">\n",
              "    <button class=\"colab-df-convert\" onclick=\"convertToInteractive('df-1874a6b2-7c81-48bd-80f3-b64741c0c755')\"\n",
              "            title=\"Convert this dataframe to an interactive table.\"\n",
              "            style=\"display:none;\">\n",
              "\n",
              "  <svg xmlns=\"http://www.w3.org/2000/svg\" height=\"24px\" viewBox=\"0 -960 960 960\">\n",
              "    <path d=\"M120-120v-720h720v720H120Zm60-500h600v-160H180v160Zm220 220h160v-160H400v160Zm0 220h160v-160H400v160ZM180-400h160v-160H180v160Zm440 0h160v-160H620v160ZM180-180h160v-160H180v160Zm440 0h160v-160H620v160Z\"/>\n",
              "  </svg>\n",
              "    </button>\n",
              "\n",
              "  <style>\n",
              "    .colab-df-container {\n",
              "      display:flex;\n",
              "      gap: 12px;\n",
              "    }\n",
              "\n",
              "    .colab-df-convert {\n",
              "      background-color: #E8F0FE;\n",
              "      border: none;\n",
              "      border-radius: 50%;\n",
              "      cursor: pointer;\n",
              "      display: none;\n",
              "      fill: #1967D2;\n",
              "      height: 32px;\n",
              "      padding: 0 0 0 0;\n",
              "      width: 32px;\n",
              "    }\n",
              "\n",
              "    .colab-df-convert:hover {\n",
              "      background-color: #E2EBFA;\n",
              "      box-shadow: 0px 1px 2px rgba(60, 64, 67, 0.3), 0px 1px 3px 1px rgba(60, 64, 67, 0.15);\n",
              "      fill: #174EA6;\n",
              "    }\n",
              "\n",
              "    .colab-df-buttons div {\n",
              "      margin-bottom: 4px;\n",
              "    }\n",
              "\n",
              "    [theme=dark] .colab-df-convert {\n",
              "      background-color: #3B4455;\n",
              "      fill: #D2E3FC;\n",
              "    }\n",
              "\n",
              "    [theme=dark] .colab-df-convert:hover {\n",
              "      background-color: #434B5C;\n",
              "      box-shadow: 0px 1px 3px 1px rgba(0, 0, 0, 0.15);\n",
              "      filter: drop-shadow(0px 1px 2px rgba(0, 0, 0, 0.3));\n",
              "      fill: #FFFFFF;\n",
              "    }\n",
              "  </style>\n",
              "\n",
              "    <script>\n",
              "      const buttonEl =\n",
              "        document.querySelector('#df-1874a6b2-7c81-48bd-80f3-b64741c0c755 button.colab-df-convert');\n",
              "      buttonEl.style.display =\n",
              "        google.colab.kernel.accessAllowed ? 'block' : 'none';\n",
              "\n",
              "      async function convertToInteractive(key) {\n",
              "        const element = document.querySelector('#df-1874a6b2-7c81-48bd-80f3-b64741c0c755');\n",
              "        const dataTable =\n",
              "          await google.colab.kernel.invokeFunction('convertToInteractive',\n",
              "                                                    [key], {});\n",
              "        if (!dataTable) return;\n",
              "\n",
              "        const docLinkHtml = 'Like what you see? Visit the ' +\n",
              "          '<a target=\"_blank\" href=https://colab.research.google.com/notebooks/data_table.ipynb>data table notebook</a>'\n",
              "          + ' to learn more about interactive tables.';\n",
              "        element.innerHTML = '';\n",
              "        dataTable['output_type'] = 'display_data';\n",
              "        await google.colab.output.renderOutput(dataTable, element);\n",
              "        const docLink = document.createElement('div');\n",
              "        docLink.innerHTML = docLinkHtml;\n",
              "        element.appendChild(docLink);\n",
              "      }\n",
              "    </script>\n",
              "  </div>\n",
              "\n",
              "\n",
              "    <div id=\"df-003ca205-7c73-49a5-ba7d-4208145d952d\">\n",
              "      <button class=\"colab-df-quickchart\" onclick=\"quickchart('df-003ca205-7c73-49a5-ba7d-4208145d952d')\"\n",
              "                title=\"Suggest charts\"\n",
              "                style=\"display:none;\">\n",
              "\n",
              "<svg xmlns=\"http://www.w3.org/2000/svg\" height=\"24px\"viewBox=\"0 0 24 24\"\n",
              "     width=\"24px\">\n",
              "    <g>\n",
              "        <path d=\"M19 3H5c-1.1 0-2 .9-2 2v14c0 1.1.9 2 2 2h14c1.1 0 2-.9 2-2V5c0-1.1-.9-2-2-2zM9 17H7v-7h2v7zm4 0h-2V7h2v10zm4 0h-2v-4h2v4z\"/>\n",
              "    </g>\n",
              "</svg>\n",
              "      </button>\n",
              "\n",
              "<style>\n",
              "  .colab-df-quickchart {\n",
              "      --bg-color: #E8F0FE;\n",
              "      --fill-color: #1967D2;\n",
              "      --hover-bg-color: #E2EBFA;\n",
              "      --hover-fill-color: #174EA6;\n",
              "      --disabled-fill-color: #AAA;\n",
              "      --disabled-bg-color: #DDD;\n",
              "  }\n",
              "\n",
              "  [theme=dark] .colab-df-quickchart {\n",
              "      --bg-color: #3B4455;\n",
              "      --fill-color: #D2E3FC;\n",
              "      --hover-bg-color: #434B5C;\n",
              "      --hover-fill-color: #FFFFFF;\n",
              "      --disabled-bg-color: #3B4455;\n",
              "      --disabled-fill-color: #666;\n",
              "  }\n",
              "\n",
              "  .colab-df-quickchart {\n",
              "    background-color: var(--bg-color);\n",
              "    border: none;\n",
              "    border-radius: 50%;\n",
              "    cursor: pointer;\n",
              "    display: none;\n",
              "    fill: var(--fill-color);\n",
              "    height: 32px;\n",
              "    padding: 0;\n",
              "    width: 32px;\n",
              "  }\n",
              "\n",
              "  .colab-df-quickchart:hover {\n",
              "    background-color: var(--hover-bg-color);\n",
              "    box-shadow: 0 1px 2px rgba(60, 64, 67, 0.3), 0 1px 3px 1px rgba(60, 64, 67, 0.15);\n",
              "    fill: var(--button-hover-fill-color);\n",
              "  }\n",
              "\n",
              "  .colab-df-quickchart-complete:disabled,\n",
              "  .colab-df-quickchart-complete:disabled:hover {\n",
              "    background-color: var(--disabled-bg-color);\n",
              "    fill: var(--disabled-fill-color);\n",
              "    box-shadow: none;\n",
              "  }\n",
              "\n",
              "  .colab-df-spinner {\n",
              "    border: 2px solid var(--fill-color);\n",
              "    border-color: transparent;\n",
              "    border-bottom-color: var(--fill-color);\n",
              "    animation:\n",
              "      spin 1s steps(1) infinite;\n",
              "  }\n",
              "\n",
              "  @keyframes spin {\n",
              "    0% {\n",
              "      border-color: transparent;\n",
              "      border-bottom-color: var(--fill-color);\n",
              "      border-left-color: var(--fill-color);\n",
              "    }\n",
              "    20% {\n",
              "      border-color: transparent;\n",
              "      border-left-color: var(--fill-color);\n",
              "      border-top-color: var(--fill-color);\n",
              "    }\n",
              "    30% {\n",
              "      border-color: transparent;\n",
              "      border-left-color: var(--fill-color);\n",
              "      border-top-color: var(--fill-color);\n",
              "      border-right-color: var(--fill-color);\n",
              "    }\n",
              "    40% {\n",
              "      border-color: transparent;\n",
              "      border-right-color: var(--fill-color);\n",
              "      border-top-color: var(--fill-color);\n",
              "    }\n",
              "    60% {\n",
              "      border-color: transparent;\n",
              "      border-right-color: var(--fill-color);\n",
              "    }\n",
              "    80% {\n",
              "      border-color: transparent;\n",
              "      border-right-color: var(--fill-color);\n",
              "      border-bottom-color: var(--fill-color);\n",
              "    }\n",
              "    90% {\n",
              "      border-color: transparent;\n",
              "      border-bottom-color: var(--fill-color);\n",
              "    }\n",
              "  }\n",
              "</style>\n",
              "\n",
              "      <script>\n",
              "        async function quickchart(key) {\n",
              "          const quickchartButtonEl =\n",
              "            document.querySelector('#' + key + ' button');\n",
              "          quickchartButtonEl.disabled = true;  // To prevent multiple clicks.\n",
              "          quickchartButtonEl.classList.add('colab-df-spinner');\n",
              "          try {\n",
              "            const charts = await google.colab.kernel.invokeFunction(\n",
              "                'suggestCharts', [key], {});\n",
              "          } catch (error) {\n",
              "            console.error('Error during call to suggestCharts:', error);\n",
              "          }\n",
              "          quickchartButtonEl.classList.remove('colab-df-spinner');\n",
              "          quickchartButtonEl.classList.add('colab-df-quickchart-complete');\n",
              "        }\n",
              "        (() => {\n",
              "          let quickchartButtonEl =\n",
              "            document.querySelector('#df-003ca205-7c73-49a5-ba7d-4208145d952d button');\n",
              "          quickchartButtonEl.style.display =\n",
              "            google.colab.kernel.accessAllowed ? 'block' : 'none';\n",
              "        })();\n",
              "      </script>\n",
              "    </div>\n",
              "\n",
              "    </div>\n",
              "  </div>\n"
            ],
            "application/vnd.google.colaboratory.intrinsic+json": {
              "type": "dataframe",
              "variable_name": "data",
              "summary": "{\n  \"name\": \"data\",\n  \"rows\": 9018,\n  \"fields\": [\n    {\n      \"column\": \"text\",\n      \"properties\": {\n        \"dtype\": \"string\",\n        \"num_unique_values\": 9005,\n        \"samples\": [\n          \"WASHINGTON (Reuters) - The U.S. Justice Department is weighing whether a financial enforcement task force created during the Obama administration in the wake of the housing crisis is still relevant, Deputy Attorney General Rod Rosenstein said Wednesday. The department\\u2019s scrutiny of the Financial Fraud Enforcement Task Force is part of a broader review by a new working group, which Rosenstein said will be offering up suggestions \\u201con promoting individual accountability and corporate cooperation.\\u201d \\u201cWe are also reviewing the mandate of the Financial Fraud Enforcement Task Force to evaluate whether it continues to meet current needs,\\u201d Rosenstein said in a speech to the U.S. Chamber of Commerce, without giving specific reasons for the review. The financial task force was launched in November 2009 by former Attorney General Eric Holder, former Securities and Exchange Commission Chairwoman Mary Schapiro and other top government officials. The group was tasked with unearthing fraud following the  2007-2009 financial crisis, including fraud related to toxic mortgage securities that were sold to investors and soured as homeowners defaulted on their mortgages. The Justice Department was heavily criticized during the Obama administration for its lackluster record on bringing criminal cases against big banks and their executives following the crisis. The five-year statute of limitations to bring criminal charges has long since lapsed. However, the department in recent years has brought a number of high-profile civil cases against big banks using the Financial Institutions Reform, Recovery and Enforcement Act, which has a 10-year statute of limitations. The task force was credited by the department in helping bring a number of those crisis-era cases, as well as other cases unrelated to the crisis, such as criminal charges against a former Valeant executive in connection with an alleged kickback scheme. Rosenstein has previously said the department is reviewing its corporate prosecution policy outlined under the so-called Yates Memo, penned by his predecessor Sally Yates during the Obama administration. That memo emphasized holding individuals accountable and called on companies to cooperate by providing the department details about people who may have been involved in wrongdoing. Rosenstein did not announce any changes on Wednesday, though he said the department will carefully weigh whether companies cooperate and if their compliance programs are \\u201capplied faithfully.\\u201d Without mentioning any company by name, he warned about the risks of delaying in disclosing cyber attacks, saying it \\u201cmay prevent other innocent parties from taking steps to protect themselves.\\u201d Equifax Inc has recently come under heavy criticism for delays in reporting a massive breach that may have exposed more than 145 million U.S. customers. \",\n          \"WASHINGTON (Reuters) - President Donald Trump, who has raised eyebrows by mulling his power to pardon as investigators probe possible ties between his 2016 election campaign and Russia, used his authority in a less controversial way on Tuesday to \\u201cpardon\\u201d a Thanksgiving turkey. Joined by his wife, Melania, and their son, Barron, Trump entered the Rose Garden for the annual presidential tradition and granted freedom to a large white bird named Drumstick. Americans traditionally feast on turkey, stuffing and other delights on the Thanksgiving holiday, which takes place this coming Thursday, but Drumstick and his pal Wishbone were granted a reprieve. \\u201cI\\u2019m pleased to report that, unlike millions of other turkeys at this time of the year, Drumstick has a very, very bright future ahead of him,\\u201d Trump said. The Republican president couldn\\u2019t resist referring to his predecessor, former Democratic President Barack Obama, who pardoned two turkeys named Tater and Tot last year. \\u201cAs many of you know, I have been very active in overturning a number of executive actions by my predecessor,\\u201d Trump quipped. \\u201cHowever, I have been informed by the White House Counsel\\u2019s Office that Tater and Tot\\u2019s pardons cannot, under any circumstances, be revoked.\\u201d The turkeys will live at an enclosure at a nearby university, Virginia Tech. Allegations of potential ties between Trump\\u2019s presidential campaign and Moscow have loomed over the White House and investigations are ongoing. Trump and Moscow have denied collusion. In a message on Twitter in July, Trump noted that as president he had \\u201ccomplete power to pardon.\\u201d  \",\n          \"Everyone is fed up with Donald Trump s blatant racism with his disgusting attacks on black athletes who are using their platform to shine a light on the deadly racist policing problem in America. Case in point   Senator Kamala Harris (D-CA). Senator Harris is one of the few women of color in the United States Senate, so this definitely hits close to home for her. On Sunday morning, while speaking at an Atlanta Church, Senator Harris ripped Trump for his attacks, all the while eloquently and passionately going to bat for the players who are exercising their First Amendment rights. She told the congregation at the First Congregational Church: Let s speak the truth that when Americans demand recognition that their lives matter, or kneel to call attention to injustice, that that is an expression of free speech, protected by our Constitution, and they should not be threatened or bullied. When we sing  The Star-Spangled Banner,  we rightly think about the brave men and women from all backgrounds who proudly defend the freedom of those they may never meet and people who will never know their names. When we sing  The Star-Spangled Banner,  we also think about those marching in the streets who demand that the ideals of that flag represent them too. That s exactly right. America is a wonderful ideal, but it isn t applied to everyone equally. That often has deadly consequences, and we see this racist pattern over and over again. That flag belongs to all of us, and until things are truly equal, it is not just a right to protest this injustice. It is a responsibility. Sure, the racists of America would have us believe that the flag and the nation belong to them. They want people to remain second-class citizens. Of course, they will never say it. Instead, they want to pretend that the last 52 years erased the attitudes that contributed to the white supremacy upon which this nation was founded.We all know that it isn t true, though. Good on Kamala Harris for speaking truth to power. She will surely be attacked by Trump, but this strong woman of color will not be intimidated by that orange fool.Watch her epic speech below:Featured image via Drew Angerer/Getty Images\"\n        ],\n        \"semantic_type\": \"\",\n        \"description\": \"\"\n      }\n    },\n    {\n      \"column\": \"class\",\n      \"properties\": {\n        \"dtype\": \"number\",\n        \"std\": 0,\n        \"min\": 0,\n        \"max\": 1,\n        \"num_unique_values\": 2,\n        \"samples\": [\n          1,\n          0\n        ],\n        \"semantic_type\": \"\",\n        \"description\": \"\"\n      }\n    }\n  ]\n}"
            }
          },
          "metadata": {},
          "execution_count": 20
        }
      ],
      "source": [
        "data.head()"
      ]
    },
    {
      "cell_type": "code",
      "execution_count": null,
      "metadata": {
        "id": "7hULpqRgOJwK"
      },
      "outputs": [],
      "source": [
        "def clean_text(text):\n",
        "    text = str(text).lower()\n",
        "    text = re.sub(r'\\[.*?\\]', '', text)       # Remove text in brackets\n",
        "    text = re.sub(r'https?://\\S+|www\\.\\S+', '', text)  # Remove URLs\n",
        "    text = re.sub(r'<.*?>+', '', text)         # Remove HTML tags\n",
        "    text = re.sub(r'[^a-z\\s]', '', text)       # Remove special characters\n",
        "    return text"
      ]
    },
    {
      "cell_type": "code",
      "execution_count": null,
      "metadata": {
        "id": "PuKwIXXcOJzx"
      },
      "outputs": [],
      "source": [
        "data['text']=data['text'].apply(clean_text)"
      ]
    },
    {
      "cell_type": "code",
      "execution_count": null,
      "metadata": {
        "id": "N_FkecPBQt1Y"
      },
      "outputs": [],
      "source": [
        "x=data['text']\n",
        "y=data['class']"
      ]
    },
    {
      "cell_type": "code",
      "execution_count": null,
      "metadata": {
        "id": "FhOxjTsjQt3q"
      },
      "outputs": [],
      "source": [
        "x_train,x_test,y_train,y_test=train_test_split(x,y,test_size=0.25)"
      ]
    },
    {
      "cell_type": "code",
      "execution_count": null,
      "metadata": {
        "id": "371ZRVCmYqEx"
      },
      "outputs": [],
      "source": [
        "from sklearn.feature_extraction.text import TfidfVectorizer\n",
        "vectorizer = TfidfVectorizer()\n",
        "X= vectorizer.fit_transform(x_train)\n",
        "Y=vectorizer.transform(x_test)"
      ]
    },
    {
      "cell_type": "code",
      "execution_count": null,
      "metadata": {
        "id": "0gTT5HQCYOBi"
      },
      "outputs": [],
      "source": [
        "from sklearn.linear_model import LogisticRegression\n",
        "model=LogisticRegression()"
      ]
    },
    {
      "cell_type": "code",
      "execution_count": null,
      "metadata": {
        "colab": {
          "base_uri": "https://localhost:8080/"
        },
        "id": "Ar2k5R2RQt6C",
        "outputId": "b53713d9-579b-4c10-f11b-f362bb6c59a4"
      },
      "outputs": [
        {
          "output_type": "execute_result",
          "data": {
            "text/plain": [
              "0.9920177383592018"
            ]
          },
          "metadata": {},
          "execution_count": 27
        }
      ],
      "source": [
        "model.fit(X,y_train)\n",
        "model.score(Y,y_test)"
      ]
    },
    {
      "cell_type": "code",
      "execution_count": null,
      "metadata": {
        "colab": {
          "base_uri": "https://localhost:8080/"
        },
        "id": "J7rYbMRsQt9Q",
        "outputId": "a27e64ea-5187-4129-acf6-8fca7b45db36"
      },
      "outputs": [
        {
          "output_type": "execute_result",
          "data": {
            "text/plain": [
              "array([0, 1, 1, ..., 0, 0, 0])"
            ]
          },
          "metadata": {},
          "execution_count": 28
        }
      ],
      "source": [
        "model.predict(Y)"
      ]
    },
    {
      "cell_type": "code",
      "execution_count": null,
      "metadata": {
        "colab": {
          "base_uri": "https://localhost:8080/"
        },
        "id": "VMgYkQwuZlu-",
        "outputId": "7965023f-4181-4c91-b127-2031b556d412"
      },
      "outputs": [
        {
          "output_type": "stream",
          "name": "stdout",
          "text": [
            "              precision    recall  f1-score   support\n",
            "\n",
            "           0       0.99      1.00      0.99      1727\n",
            "           1       1.00      0.97      0.98       528\n",
            "\n",
            "    accuracy                           0.99      2255\n",
            "   macro avg       0.99      0.98      0.99      2255\n",
            "weighted avg       0.99      0.99      0.99      2255\n",
            "\n"
          ]
        }
      ],
      "source": [
        "print(classification_report(y_test,model.predict(Y)))"
      ]
    },
    {
      "cell_type": "code",
      "execution_count": null,
      "metadata": {
        "colab": {
          "base_uri": "https://localhost:8080/"
        },
        "id": "md8Mw1p3Zlxc",
        "outputId": "ce92f87d-0786-4e1f-8456-fdf2276ab7b6"
      },
      "outputs": [
        {
          "output_type": "execute_result",
          "data": {
            "text/plain": [
              "0.9977827050997783"
            ]
          },
          "metadata": {},
          "execution_count": 30
        }
      ],
      "source": [
        "from sklearn.tree import DecisionTreeClassifier\n",
        "model2=DecisionTreeClassifier()\n",
        "model2.fit(X,y_train)\n",
        "model2.score(Y,y_test)"
      ]
    },
    {
      "cell_type": "code",
      "execution_count": null,
      "metadata": {
        "colab": {
          "base_uri": "https://localhost:8080/"
        },
        "id": "YjX3eZdGZl0y",
        "outputId": "d220aca2-3292-40fa-b594-c4efc96a3be2"
      },
      "outputs": [
        {
          "output_type": "execute_result",
          "data": {
            "text/plain": [
              "array([0, 1, 1, ..., 0, 0, 0])"
            ]
          },
          "metadata": {},
          "execution_count": 31
        }
      ],
      "source": [
        "model2.predict(Y)"
      ]
    },
    {
      "cell_type": "code",
      "execution_count": null,
      "metadata": {
        "colab": {
          "base_uri": "https://localhost:8080/"
        },
        "id": "BxTBZO8BcKMF",
        "outputId": "ae805a9f-e744-41d9-8b1d-5f00a78dcdbd"
      },
      "outputs": [
        {
          "output_type": "stream",
          "name": "stdout",
          "text": [
            "              precision    recall  f1-score   support\n",
            "\n",
            "           0       1.00      1.00      1.00      1727\n",
            "           1       1.00      0.99      1.00       528\n",
            "\n",
            "    accuracy                           1.00      2255\n",
            "   macro avg       1.00      1.00      1.00      2255\n",
            "weighted avg       1.00      1.00      1.00      2255\n",
            "\n"
          ]
        }
      ],
      "source": [
        "print(classification_report(y_test,model2.predict(Y)))"
      ]
    },
    {
      "cell_type": "code",
      "execution_count": null,
      "metadata": {
        "colab": {
          "base_uri": "https://localhost:8080/"
        },
        "id": "rt66oXjhawQz",
        "outputId": "6c41ac04-7a4b-4847-c697-a70dedf04549"
      },
      "outputs": [
        {
          "output_type": "execute_result",
          "data": {
            "text/plain": [
              "0.985809312638581"
            ]
          },
          "metadata": {},
          "execution_count": 33
        }
      ],
      "source": [
        "from sklearn.ensemble import RandomForestClassifier\n",
        "model3=RandomForestClassifier()\n",
        "model3.fit(X,y_train)\n",
        "model3.score(Y,y_test)"
      ]
    },
    {
      "cell_type": "code",
      "execution_count": null,
      "metadata": {
        "colab": {
          "base_uri": "https://localhost:8080/"
        },
        "id": "2B1SM2hGawUG",
        "outputId": "30a06767-8855-4beb-ceab-815a8b5c06f8"
      },
      "outputs": [
        {
          "output_type": "execute_result",
          "data": {
            "text/plain": [
              "array([0, 1, 1, ..., 0, 0, 0])"
            ]
          },
          "metadata": {},
          "execution_count": 34
        }
      ],
      "source": [
        "model3.predict(Y)"
      ]
    },
    {
      "cell_type": "code",
      "execution_count": null,
      "metadata": {
        "colab": {
          "base_uri": "https://localhost:8080/"
        },
        "id": "7fXGF5C2axLm",
        "outputId": "e9ade56c-95f6-4cd7-cab0-8d782d611b95"
      },
      "outputs": [
        {
          "output_type": "stream",
          "name": "stdout",
          "text": [
            "              precision    recall  f1-score   support\n",
            "\n",
            "           0       0.98      1.00      0.99      1727\n",
            "           1       1.00      0.94      0.97       528\n",
            "\n",
            "    accuracy                           0.99      2255\n",
            "   macro avg       0.99      0.97      0.98      2255\n",
            "weighted avg       0.99      0.99      0.99      2255\n",
            "\n"
          ]
        }
      ],
      "source": [
        "print(classification_report(y_test,model3.predict(Y)))"
      ]
    },
    {
      "cell_type": "code",
      "execution_count": null,
      "metadata": {
        "id": "501WgZz_djzX",
        "colab": {
          "base_uri": "https://localhost:8080/"
        },
        "outputId": "3bb85ac8-4d60-4cf3-caf8-4f2c4bd15fd0"
      },
      "outputs": [
        {
          "output_type": "execute_result",
          "data": {
            "text/plain": [
              "0.9982261640798226"
            ]
          },
          "metadata": {},
          "execution_count": 36
        }
      ],
      "source": [
        "from sklearn.ensemble import GradientBoostingClassifier\n",
        "model4=GradientBoostingClassifier()\n",
        "model4.fit(X,y_train)\n",
        "model4.score(Y,y_test)"
      ]
    },
    {
      "cell_type": "code",
      "execution_count": null,
      "metadata": {
        "id": "6G8x9pRXdjnq",
        "colab": {
          "base_uri": "https://localhost:8080/"
        },
        "outputId": "832cf93f-caa8-4618-f399-221f61d73aa0"
      },
      "outputs": [
        {
          "output_type": "execute_result",
          "data": {
            "text/plain": [
              "array([0, 1, 1, ..., 0, 0, 0])"
            ]
          },
          "metadata": {},
          "execution_count": 37
        }
      ],
      "source": [
        "model4.predict(Y)"
      ]
    },
    {
      "cell_type": "code",
      "execution_count": null,
      "metadata": {
        "id": "m8OSlybIdjao",
        "colab": {
          "base_uri": "https://localhost:8080/"
        },
        "outputId": "30e07a12-8a81-4aeb-b8e0-5cfd3f47626c"
      },
      "outputs": [
        {
          "output_type": "stream",
          "name": "stdout",
          "text": [
            "              precision    recall  f1-score   support\n",
            "\n",
            "           0       1.00      1.00      1.00      1727\n",
            "           1       1.00      1.00      1.00       528\n",
            "\n",
            "    accuracy                           1.00      2255\n",
            "   macro avg       1.00      1.00      1.00      2255\n",
            "weighted avg       1.00      1.00      1.00      2255\n",
            "\n"
          ]
        }
      ],
      "source": [
        "print(classification_report(y_test,model4.predict(Y)))"
      ]
    },
    {
      "cell_type": "code",
      "execution_count": null,
      "metadata": {
        "colab": {
          "base_uri": "https://localhost:8080/"
        },
        "id": "AdnEyjS1ePhV",
        "outputId": "64a6fbd2-d8a2-4402-fb9a-9aa78281728c"
      },
      "outputs": [
        {
          "output_type": "stream",
          "name": "stdout",
          "text": [
            "class\n",
            "0    6953\n",
            "1    2065\n",
            "Name: count, dtype: int64\n"
          ]
        }
      ],
      "source": [
        "def get_label(n):\n",
        "    return \"Fake\" if n == 0 else \"True\"\n",
        "\n",
        "def manual_testing(news):\n",
        "    testing_news = {\"text\": [news]}\n",
        "    new_def_test = pd.DataFrame(testing_news)\n",
        "    new_def_test[\"text\"] = new_def_test[\"text\"].apply(clean_text)\n",
        "    new_x_test = vectorizer.transform(new_def_test[\"text\"])\n",
        "    pred_LR = model.predict(new_x_test)[0]\n",
        "    pred_DT = model2.predict(new_x_test)[0]\n",
        "    pred_RF = model3.predict(new_x_test)[0]\n",
        "\n",
        "    print(f\"Logistic Regression Prediction: {get_label(pred_LR)}\")\n",
        "    print(f\"Decision Tree Prediction: {get_label(pred_DT)}\")\n",
        "    print(f\"Random Forest Prediction: {get_label(pred_RF)}\")\n",
        "print(data['class'].value_counts())"
      ]
    },
    {
      "cell_type": "code",
      "execution_count": null,
      "metadata": {
        "id": "rqfxdehSePeE",
        "colab": {
          "base_uri": "https://localhost:8080/"
        },
        "outputId": "eac056cb-6e49-4763-9ba8-a99e724ca438"
      },
      "outputs": [
        {
          "output_type": "stream",
          "name": "stdout",
          "text": [
            "Logistic Regression Prediction: True\n",
            "Decision Tree Prediction: Fake\n",
            "Random Forest Prediction: True\n"
          ]
        }
      ],
      "source": [
        "manual_testing(\"The Prime Minister announced a new economic stimulus package to boost the post-pandemic recovery.\")\n"
      ]
    },
    {
      "cell_type": "code",
      "source": [
        "manual_testing(\"NASA confirms water molecules detected on the sunlit surface of the Moon, paving the way for future missions.\")\n"
      ],
      "metadata": {
        "colab": {
          "base_uri": "https://localhost:8080/"
        },
        "id": "mTBhQKX6nVIP",
        "outputId": "aac0ffe4-2452-4b4c-85d6-0e167e506361"
      },
      "execution_count": null,
      "outputs": [
        {
          "output_type": "stream",
          "name": "stdout",
          "text": [
            "Logistic Regression Prediction: Fake\n",
            "Decision Tree Prediction: Fake\n",
            "Random Forest Prediction: True\n"
          ]
        }
      ]
    },
    {
      "cell_type": "code",
      "source": [
        "manual_testing(\"Scientists discover a pill that instantly makes people invisible for 24 hours, now available in local pharmacies.\")\n"
      ],
      "metadata": {
        "id": "xFNr_R85nk2U",
        "outputId": "170d6c1d-1936-4d39-cf3f-79d90b460be0",
        "colab": {
          "base_uri": "https://localhost:8080/"
        }
      },
      "execution_count": null,
      "outputs": [
        {
          "output_type": "stream",
          "name": "stdout",
          "text": [
            "Logistic Regression Prediction: Fake\n",
            "Decision Tree Prediction: Fake\n",
            "Random Forest Prediction: True\n"
          ]
        }
      ]
    }
  ],
  "metadata": {
    "colab": {
      "provenance": [],
      "authorship_tag": "ABX9TyMAO1Lt/HdpsLulNWxuE1ul",
      "include_colab_link": true
    },
    "kernelspec": {
      "display_name": "Python 3",
      "name": "python3"
    },
    "language_info": {
      "name": "python"
    }
  },
  "nbformat": 4,
  "nbformat_minor": 0
}